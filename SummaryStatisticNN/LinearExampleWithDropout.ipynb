{
 "cells": [
  {
   "metadata": {},
   "cell_type": "markdown",
   "source": "In this page we will continue from the LinearExample notebook, choosing to use the covariance summary statistics for the linear example. We will use a custom class to aim to increase customisability as well as trying to use dropout to get a distribution of outputs.",
   "id": "c58fe3f8d28db6a1"
  },
  {
   "metadata": {},
   "cell_type": "markdown",
   "source": "### plot helper function",
   "id": "b8a3f563ca00a6a0"
  },
  {
   "metadata": {
    "ExecuteTime": {
     "end_time": "2025-06-24T14:35:43.169605Z",
     "start_time": "2025-06-24T14:35:43.164525Z"
    }
   },
   "cell_type": "code",
   "source": [
    "def plot_loss(history, title=\"Loss curve\"):\n",
    "    \"\"\"\n",
    "    Plot training & validation loss stored in a Keras History object.\n",
    "    Generates two stacked panels:\n",
    "      • top: linear y-axis\n",
    "      • bottom: semilog-y (base-10) axis\n",
    "    \"\"\"\n",
    "    epochs = range(1, len(history.history[\"loss\"]) + 1)\n",
    "\n",
    "    fig, (ax_lin, ax_log) = plt.subplots(2, 1, figsize=(6, 8), sharex=True)\n",
    "\n",
    "    # linear plot\n",
    "    ax_lin.plot(epochs, history.history[\"loss\"],     label=\"train\")\n",
    "    ax_lin.plot(epochs, history.history[\"val_loss\"], label=\"val\")\n",
    "    ax_lin.set_ylabel(\"MSE\")\n",
    "    ax_lin.set_title(title + \" (linear scale)\")\n",
    "    ax_lin.legend()\n",
    "    ax_lin.grid(True, which=\"both\", linestyle=\"--\", linewidth=0.5)\n",
    "\n",
    "    # semilog-y plot\n",
    "    ax_log.semilogy(epochs, history.history[\"loss\"],     label=\"train\")\n",
    "    ax_log.semilogy(epochs, history.history[\"val_loss\"], label=\"val\")\n",
    "    ax_log.set_xlabel(\"Epoch\")\n",
    "    ax_log.set_ylabel(\"MSE (log scale)\")\n",
    "    ax_log.set_title(title + \" (semilogy)\")\n",
    "    ax_log.legend()\n",
    "    ax_log.grid(True, which=\"both\", linestyle=\"--\", linewidth=0.5)\n",
    "\n",
    "    plt.tight_layout()\n",
    "    plt.show()"
   ],
   "id": "53889698fb04d997",
   "outputs": [],
   "execution_count": 23
  },
  {
   "metadata": {},
   "cell_type": "markdown",
   "source": [
    "### Custom NN\n",
    "\n",
    "As before use keras."
   ],
   "id": "deb9b257ba97872"
  },
  {
   "cell_type": "code",
   "id": "initial_id",
   "metadata": {
    "collapsed": true,
    "ExecuteTime": {
     "end_time": "2025-06-24T14:35:43.184652Z",
     "start_time": "2025-06-24T14:35:43.181897Z"
    }
   },
   "source": [
    "import numpy as np\n",
    "import matplotlib.pyplot as plt\n",
    "import tensorflow as tf\n",
    "from tensorflow.keras.layers import Dense, Dropout, Input\n",
    "from tensorflow.keras.models import Model\n",
    "from tensorflow.keras.callbacks import EarlyStopping\n",
    "\n",
    "print(\"Successfully imported all modules\")"
   ],
   "outputs": [
    {
     "name": "stdout",
     "output_type": "stream",
     "text": [
      "Successfully imported all modules\n"
     ]
    }
   ],
   "execution_count": 24
  },
  {
   "metadata": {},
   "cell_type": "markdown",
   "source": "Define our custom Neural Network, can add or remove layers accordingly",
   "id": "1c2e348b8d786f15"
  },
  {
   "metadata": {
    "ExecuteTime": {
     "end_time": "2025-06-24T14:35:43.202578Z",
     "start_time": "2025-06-24T14:35:43.199292Z"
    }
   },
   "cell_type": "code",
   "source": [
    "class NN(Model):\n",
    "\n",
    "    def __init__(self,\n",
    "                 no_params,\n",
    "                 neurons=64,\n",
    "                 dropout_prob = 0.0,\n",
    "                 always_on_dropout = False\n",
    "                 ):\n",
    "\n",
    "        super(NN, self).__init__(name='NN') # inherits the parent class and names it (for debugging)\n",
    "\n",
    "        self.neurons = neurons\n",
    "        self.no_params = no_params # number of paramaters we output\n",
    "\n",
    "        self.always_on_dropout = always_on_dropout # if true then we leave on for test passes\n",
    "\n",
    "        # Define our layers\n",
    "        self.l1 = Dense(neurons, activation='relu', name='l1')\n",
    "        self.do1 = Dropout(rate=dropout_prob, name='do1') # dropout layer 1\n",
    "        self.l2 = Dense(neurons, activation='relu', name='l2')\n",
    "        self.do2 = Dropout(rate=dropout_prob, name='do2') # dropout layer 2\n",
    "        # Applies linear activation which is just unchanged\n",
    "        self.out =  Dense(no_params, activation=\"linear\", name=\"out\")\n",
    "\n",
    "    def call(self, inputs, training=False):\n",
    "        dropout_flag = training or self.always_on_dropout\n",
    "\n",
    "        # Apply our custom layers\n",
    "        x = self.l1(inputs)\n",
    "        x = self.do1(x, training=dropout_flag)\n",
    "        x = self.l2(x)\n",
    "        x = self.do2(x, training=dropout_flag)\n",
    "        x = self.out(x)\n",
    "\n",
    "        return x    # output size = no_params"
   ],
   "id": "7da4aedf7bd8745d",
   "outputs": [],
   "execution_count": 25
  },
  {
   "metadata": {},
   "cell_type": "markdown",
   "source": [
    "### Dataset generation\n",
    "\n",
    "We make a similar function to before with only the one covariance option.\n",
    "\n",
    "The scaling helps significantly to get good convergence"
   ],
   "id": "4a00dd18105a46c6"
  },
  {
   "metadata": {
    "ExecuteTime": {
     "end_time": "2025-06-24T14:35:43.211575Z",
     "start_time": "2025-06-24T14:35:43.208353Z"
    }
   },
   "cell_type": "code",
   "source": [
    "def simulate_batch(\n",
    "        no_params,\n",
    "        batch_size,\n",
    "        theta_range = (0,10),\n",
    "        n_per_sample=100,\n",
    "        noise_std=0.5\n",
    "):\n",
    "\n",
    "    # Generate our theta, and random points which will be used to form the output variable\n",
    "    theta = tf.random.uniform([batch_size, no_params, 1], *theta_range)     # (B, D, 1)\n",
    "    X     = tf.random.uniform([batch_size, n_per_sample, no_params])        # (B, n, no_params)\n",
    "\n",
    "    # Generate noise and then create output variable\n",
    "    noise = noise_std * tf.random.normal([batch_size, n_per_sample, 1])  # (B, n, 1)\n",
    "    y     = tf.matmul(X, theta) + noise                                  # (B, n, 1)\n",
    "\n",
    "    mean_x = tf.reduce_mean(X, axis=1)                 # (B, D)\n",
    "    mean_y = tf.reduce_mean(y, axis=1)                 # (B, 1) - used for if we have y intercept\n",
    "\n",
    "    # Center both x and y around their mean\n",
    "    xc = X - tf.expand_dims(mean_x, 1)\n",
    "    yc = y - tf.expand_dims(mean_y, 1)\n",
    "\n",
    "    # Create the covariance matrix for the data, then the covariance between x and y\n",
    "    cov_x  = tf.matmul(xc, xc, transpose_a=True) / n_per_sample        # (B, D, D)\n",
    "    cov_xy = tf.matmul(xc, yc, transpose_a=True) / n_per_sample        # (B, D, 1)\n",
    "\n",
    "    summary = tf.concat([\n",
    "        mean_x,\n",
    "        mean_y,\n",
    "        tf.reshape(cov_x,  [ -1, no_params*no_params ]),\n",
    "        tf.reshape(cov_xy, [ -1, no_params]),\n",
    "        ],\n",
    "        axis=-1\n",
    "                )                                                   # (B, D*D + 2D + 1)\n",
    "\n",
    "    return summary, theta\n",
    "\n",
    "def make_dataset_multi_dim(n_examples, no_params, batch_size=100):\n",
    "    \"\"\"tf.data.Dataset emitting (summary, θ) pairs. Allows for efficient processing\"\"\"\n",
    "    steps = n_examples // batch_size\n",
    "    ds = tf.data.Dataset.range(steps).map(\n",
    "        lambda _: simulate_batch(no_params, batch_size),\n",
    "        num_parallel_calls=tf.data.AUTOTUNE\n",
    "    ).unbatch()\n",
    "    return ds.prefetch(tf.data.AUTOTUNE)"
   ],
   "id": "47cfeff070b5a1d3",
   "outputs": [],
   "execution_count": 26
  },
  {
   "metadata": {
    "ExecuteTime": {
     "end_time": "2025-06-24T14:35:43.267456Z",
     "start_time": "2025-06-24T14:35:43.215238Z"
    }
   },
   "cell_type": "code",
   "source": [
    "n_examples = 20000 # The number of datasets\n",
    "no_params = 10\n",
    "batch_size = 256\n",
    "\n",
    "train_ds = make_dataset_multi_dim(\n",
    "    n_examples = int(n_examples*0.9),\n",
    "    no_params=no_params,\n",
    "    batch_size=batch_size\n",
    ")\n",
    "val_ds = make_dataset_multi_dim(\n",
    "    n_examples = int(n_examples*0.1),\n",
    "    no_params=no_params,\n",
    "    batch_size=batch_size\n",
    ")"
   ],
   "id": "c67cae1aafb2cb6b",
   "outputs": [],
   "execution_count": 27
  },
  {
   "metadata": {},
   "cell_type": "markdown",
   "source": "Now initialise the model defining the optimiser too",
   "id": "a531d5f8954dec80"
  },
  {
   "metadata": {
    "ExecuteTime": {
     "end_time": "2025-06-24T14:35:43.277296Z",
     "start_time": "2025-06-24T14:35:43.272212Z"
    }
   },
   "cell_type": "code",
   "source": [
    "neurons = 64\n",
    "input_size = no_params ** 2 + 2 * no_params + 1\n",
    "\n",
    "myNN = NN(neurons=neurons, no_params=no_params, dropout_prob=0.2, always_on_dropout=True)\n",
    "myNN.compile(loss='mse', optimizer=\"adam\")"
   ],
   "id": "3fa3b9ce418e70a",
   "outputs": [],
   "execution_count": 28
  },
  {
   "metadata": {},
   "cell_type": "markdown",
   "source": "Fit the model",
   "id": "899d8f9fb7dee85e"
  },
  {
   "metadata": {
    "ExecuteTime": {
     "end_time": "2025-06-24T14:35:50.068531Z",
     "start_time": "2025-06-24T14:35:43.281656Z"
    }
   },
   "cell_type": "code",
   "source": [
    "history = myNN.fit(train_ds.batch(batch_size),\n",
    "                   validation_data=val_ds.batch(batch_size),\n",
    "                   epochs=200,\n",
    "                   callbacks=[EarlyStopping(patience=10,\n",
    "                                            restore_best_weights=True)]\n",
    "                   )\n",
    "myNN.summary()\n",
    "plot_loss(history)"
   ],
   "id": "f957c27e1881aa59",
   "outputs": [
    {
     "name": "stdout",
     "output_type": "stream",
     "text": [
      "Epoch 1/200\n",
      "\u001B[1m70/70\u001B[0m \u001B[32m━━━━━━━━━━━━━━━━━━━━\u001B[0m\u001B[37m\u001B[0m \u001B[1m0s\u001B[0m 2ms/step - loss: 21.4251 - val_loss: 7.5712\n",
      "Epoch 2/200\n",
      "\u001B[1m70/70\u001B[0m \u001B[32m━━━━━━━━━━━━━━━━━━━━\u001B[0m\u001B[37m\u001B[0m \u001B[1m0s\u001B[0m 913us/step - loss: 7.4915 - val_loss: 7.3958\n",
      "Epoch 3/200\n",
      "\u001B[1m70/70\u001B[0m \u001B[32m━━━━━━━━━━━━━━━━━━━━\u001B[0m\u001B[37m\u001B[0m \u001B[1m0s\u001B[0m 911us/step - loss: 7.3188 - val_loss: 7.2505\n",
      "Epoch 4/200\n",
      "\u001B[1m70/70\u001B[0m \u001B[32m━━━━━━━━━━━━━━━━━━━━\u001B[0m\u001B[37m\u001B[0m \u001B[1m0s\u001B[0m 825us/step - loss: 7.1681 - val_loss: 6.9163\n",
      "Epoch 5/200\n",
      "\u001B[1m70/70\u001B[0m \u001B[32m━━━━━━━━━━━━━━━━━━━━\u001B[0m\u001B[37m\u001B[0m \u001B[1m0s\u001B[0m 866us/step - loss: 6.8157 - val_loss: 6.4479\n",
      "Epoch 6/200\n",
      "\u001B[1m70/70\u001B[0m \u001B[32m━━━━━━━━━━━━━━━━━━━━\u001B[0m\u001B[37m\u001B[0m \u001B[1m0s\u001B[0m 850us/step - loss: 6.2718 - val_loss: 5.8323\n",
      "Epoch 7/200\n",
      "\u001B[1m70/70\u001B[0m \u001B[32m━━━━━━━━━━━━━━━━━━━━\u001B[0m\u001B[37m\u001B[0m \u001B[1m0s\u001B[0m 970us/step - loss: 5.6403 - val_loss: 5.1229\n",
      "Epoch 8/200\n",
      "\u001B[1m70/70\u001B[0m \u001B[32m━━━━━━━━━━━━━━━━━━━━\u001B[0m\u001B[37m\u001B[0m \u001B[1m0s\u001B[0m 908us/step - loss: 4.9306 - val_loss: 4.4150\n",
      "Epoch 9/200\n",
      "\u001B[1m70/70\u001B[0m \u001B[32m━━━━━━━━━━━━━━━━━━━━\u001B[0m\u001B[37m\u001B[0m \u001B[1m0s\u001B[0m 853us/step - loss: 4.2113 - val_loss: 3.5980\n",
      "Epoch 10/200\n",
      "\u001B[1m70/70\u001B[0m \u001B[32m━━━━━━━━━━━━━━━━━━━━\u001B[0m\u001B[37m\u001B[0m \u001B[1m0s\u001B[0m 975us/step - loss: 3.5615 - val_loss: 3.1867\n",
      "Epoch 11/200\n",
      "\u001B[1m70/70\u001B[0m \u001B[32m━━━━━━━━━━━━━━━━━━━━\u001B[0m\u001B[37m\u001B[0m \u001B[1m0s\u001B[0m 1ms/step - loss: 3.0524 - val_loss: 2.6553\n",
      "Epoch 12/200\n",
      "\u001B[1m70/70\u001B[0m \u001B[32m━━━━━━━━━━━━━━━━━━━━\u001B[0m\u001B[37m\u001B[0m \u001B[1m0s\u001B[0m 1ms/step - loss: 2.6552 - val_loss: 2.4379\n",
      "Epoch 13/200\n",
      "\u001B[1m70/70\u001B[0m \u001B[32m━━━━━━━━━━━━━━━━━━━━\u001B[0m\u001B[37m\u001B[0m \u001B[1m0s\u001B[0m 1ms/step - loss: 2.3242 - val_loss: 2.0982\n",
      "Epoch 14/200\n",
      "\u001B[1m70/70\u001B[0m \u001B[32m━━━━━━━━━━━━━━━━━━━━\u001B[0m\u001B[37m\u001B[0m \u001B[1m0s\u001B[0m 976us/step - loss: 2.0447 - val_loss: 1.8384\n",
      "Epoch 15/200\n",
      "\u001B[1m70/70\u001B[0m \u001B[32m━━━━━━━━━━━━━━━━━━━━\u001B[0m\u001B[37m\u001B[0m \u001B[1m0s\u001B[0m 941us/step - loss: 1.7802 - val_loss: 1.6209\n",
      "Epoch 16/200\n",
      "\u001B[1m70/70\u001B[0m \u001B[32m━━━━━━━━━━━━━━━━━━━━\u001B[0m\u001B[37m\u001B[0m \u001B[1m0s\u001B[0m 1ms/step - loss: 1.5973 - val_loss: 1.4910\n",
      "Epoch 17/200\n",
      "\u001B[1m70/70\u001B[0m \u001B[32m━━━━━━━━━━━━━━━━━━━━\u001B[0m\u001B[37m\u001B[0m \u001B[1m0s\u001B[0m 980us/step - loss: 1.4278 - val_loss: 1.3369\n",
      "Epoch 18/200\n",
      "\u001B[1m70/70\u001B[0m \u001B[32m━━━━━━━━━━━━━━━━━━━━\u001B[0m\u001B[37m\u001B[0m \u001B[1m0s\u001B[0m 991us/step - loss: 1.3333 - val_loss: 1.2675\n",
      "Epoch 19/200\n",
      "\u001B[1m70/70\u001B[0m \u001B[32m━━━━━━━━━━━━━━━━━━━━\u001B[0m\u001B[37m\u001B[0m \u001B[1m0s\u001B[0m 969us/step - loss: 1.2915 - val_loss: 1.2639\n",
      "Epoch 20/200\n",
      "\u001B[1m70/70\u001B[0m \u001B[32m━━━━━━━━━━━━━━━━━━━━\u001B[0m\u001B[37m\u001B[0m \u001B[1m0s\u001B[0m 1ms/step - loss: 1.2245 - val_loss: 1.2216\n",
      "Epoch 21/200\n",
      "\u001B[1m70/70\u001B[0m \u001B[32m━━━━━━━━━━━━━━━━━━━━\u001B[0m\u001B[37m\u001B[0m \u001B[1m0s\u001B[0m 1ms/step - loss: 1.1900 - val_loss: 1.1266\n",
      "Epoch 22/200\n",
      "\u001B[1m70/70\u001B[0m \u001B[32m━━━━━━━━━━━━━━━━━━━━\u001B[0m\u001B[37m\u001B[0m \u001B[1m0s\u001B[0m 958us/step - loss: 1.1441 - val_loss: 1.1193\n",
      "Epoch 23/200\n",
      "\u001B[1m70/70\u001B[0m \u001B[32m━━━━━━━━━━━━━━━━━━━━\u001B[0m\u001B[37m\u001B[0m \u001B[1m0s\u001B[0m 1ms/step - loss: 1.1067 - val_loss: 1.0694\n",
      "Epoch 24/200\n",
      "\u001B[1m70/70\u001B[0m \u001B[32m━━━━━━━━━━━━━━━━━━━━\u001B[0m\u001B[37m\u001B[0m \u001B[1m0s\u001B[0m 1ms/step - loss: 1.0780 - val_loss: 1.0375\n",
      "Epoch 25/200\n",
      "\u001B[1m70/70\u001B[0m \u001B[32m━━━━━━━━━━━━━━━━━━━━\u001B[0m\u001B[37m\u001B[0m \u001B[1m0s\u001B[0m 1ms/step - loss: 1.0527 - val_loss: 1.0181\n",
      "Epoch 26/200\n",
      "\u001B[1m70/70\u001B[0m \u001B[32m━━━━━━━━━━━━━━━━━━━━\u001B[0m\u001B[37m\u001B[0m \u001B[1m0s\u001B[0m 1ms/step - loss: 1.0301 - val_loss: 0.9818\n",
      "Epoch 27/200\n",
      "\u001B[1m70/70\u001B[0m \u001B[32m━━━━━━━━━━━━━━━━━━━━\u001B[0m\u001B[37m\u001B[0m \u001B[1m0s\u001B[0m 992us/step - loss: 0.9875 - val_loss: 0.9680\n",
      "Epoch 28/200\n",
      "\u001B[1m70/70\u001B[0m \u001B[32m━━━━━━━━━━━━━━━━━━━━\u001B[0m\u001B[37m\u001B[0m \u001B[1m0s\u001B[0m 940us/step - loss: 0.9705 - val_loss: 0.9603\n",
      "Epoch 29/200\n",
      "\u001B[1m70/70\u001B[0m \u001B[32m━━━━━━━━━━━━━━━━━━━━\u001B[0m\u001B[37m\u001B[0m \u001B[1m0s\u001B[0m 1ms/step - loss: 0.9598 - val_loss: 0.9553\n",
      "Epoch 30/200\n",
      "\u001B[1m70/70\u001B[0m \u001B[32m━━━━━━━━━━━━━━━━━━━━\u001B[0m\u001B[37m\u001B[0m \u001B[1m0s\u001B[0m 978us/step - loss: 0.9360 - val_loss: 0.9271\n",
      "Epoch 31/200\n",
      "\u001B[1m70/70\u001B[0m \u001B[32m━━━━━━━━━━━━━━━━━━━━\u001B[0m\u001B[37m\u001B[0m \u001B[1m0s\u001B[0m 1ms/step - loss: 0.9113 - val_loss: 0.9000\n",
      "Epoch 32/200\n",
      "\u001B[1m70/70\u001B[0m \u001B[32m━━━━━━━━━━━━━━━━━━━━\u001B[0m\u001B[37m\u001B[0m \u001B[1m0s\u001B[0m 925us/step - loss: 0.8990 - val_loss: 0.8739\n",
      "Epoch 33/200\n",
      "\u001B[1m70/70\u001B[0m \u001B[32m━━━━━━━━━━━━━━━━━━━━\u001B[0m\u001B[37m\u001B[0m \u001B[1m0s\u001B[0m 1ms/step - loss: 0.8953 - val_loss: 0.8798\n",
      "Epoch 34/200\n",
      "\u001B[1m70/70\u001B[0m \u001B[32m━━━━━━━━━━━━━━━━━━━━\u001B[0m\u001B[37m\u001B[0m \u001B[1m0s\u001B[0m 1ms/step - loss: 0.8845 - val_loss: 0.9002\n",
      "Epoch 35/200\n",
      "\u001B[1m70/70\u001B[0m \u001B[32m━━━━━━━━━━━━━━━━━━━━\u001B[0m\u001B[37m\u001B[0m \u001B[1m0s\u001B[0m 1ms/step - loss: 0.8700 - val_loss: 0.8703\n",
      "Epoch 36/200\n",
      "\u001B[1m70/70\u001B[0m \u001B[32m━━━━━━━━━━━━━━━━━━━━\u001B[0m\u001B[37m\u001B[0m \u001B[1m0s\u001B[0m 973us/step - loss: 0.8673 - val_loss: 0.8593\n",
      "Epoch 37/200\n",
      "\u001B[1m70/70\u001B[0m \u001B[32m━━━━━━━━━━━━━━━━━━━━\u001B[0m\u001B[37m\u001B[0m \u001B[1m0s\u001B[0m 1ms/step - loss: 0.8632 - val_loss: 0.8710\n",
      "Epoch 38/200\n",
      "\u001B[1m70/70\u001B[0m \u001B[32m━━━━━━━━━━━━━━━━━━━━\u001B[0m\u001B[37m\u001B[0m \u001B[1m0s\u001B[0m 980us/step - loss: 0.8586 - val_loss: 0.8628\n",
      "Epoch 39/200\n",
      "\u001B[1m70/70\u001B[0m \u001B[32m━━━━━━━━━━━━━━━━━━━━\u001B[0m\u001B[37m\u001B[0m \u001B[1m0s\u001B[0m 951us/step - loss: 0.8515 - val_loss: 0.8388\n",
      "Epoch 40/200\n",
      "\u001B[1m70/70\u001B[0m \u001B[32m━━━━━━━━━━━━━━━━━━━━\u001B[0m\u001B[37m\u001B[0m \u001B[1m0s\u001B[0m 952us/step - loss: 0.8521 - val_loss: 0.8574\n",
      "Epoch 41/200\n",
      "\u001B[1m70/70\u001B[0m \u001B[32m━━━━━━━━━━━━━━━━━━━━\u001B[0m\u001B[37m\u001B[0m \u001B[1m0s\u001B[0m 930us/step - loss: 0.8442 - val_loss: 0.8490\n",
      "Epoch 42/200\n",
      "\u001B[1m70/70\u001B[0m \u001B[32m━━━━━━━━━━━━━━━━━━━━\u001B[0m\u001B[37m\u001B[0m \u001B[1m0s\u001B[0m 942us/step - loss: 0.8497 - val_loss: 0.8386\n",
      "Epoch 43/200\n",
      "\u001B[1m70/70\u001B[0m \u001B[32m━━━━━━━━━━━━━━━━━━━━\u001B[0m\u001B[37m\u001B[0m \u001B[1m0s\u001B[0m 963us/step - loss: 0.8443 - val_loss: 0.8322\n",
      "Epoch 44/200\n",
      "\u001B[1m70/70\u001B[0m \u001B[32m━━━━━━━━━━━━━━━━━━━━\u001B[0m\u001B[37m\u001B[0m \u001B[1m0s\u001B[0m 1ms/step - loss: 0.8378 - val_loss: 0.8623\n",
      "Epoch 45/200\n",
      "\u001B[1m70/70\u001B[0m \u001B[32m━━━━━━━━━━━━━━━━━━━━\u001B[0m\u001B[37m\u001B[0m \u001B[1m0s\u001B[0m 930us/step - loss: 0.8527 - val_loss: 0.8452\n",
      "Epoch 46/200\n",
      "\u001B[1m70/70\u001B[0m \u001B[32m━━━━━━━━━━━━━━━━━━━━\u001B[0m\u001B[37m\u001B[0m \u001B[1m0s\u001B[0m 903us/step - loss: 0.8394 - val_loss: 0.8281\n",
      "Epoch 47/200\n",
      "\u001B[1m70/70\u001B[0m \u001B[32m━━━━━━━━━━━━━━━━━━━━\u001B[0m\u001B[37m\u001B[0m \u001B[1m0s\u001B[0m 943us/step - loss: 0.8313 - val_loss: 0.8203\n",
      "Epoch 48/200\n",
      "\u001B[1m70/70\u001B[0m \u001B[32m━━━━━━━━━━━━━━━━━━━━\u001B[0m\u001B[37m\u001B[0m \u001B[1m0s\u001B[0m 980us/step - loss: 0.8253 - val_loss: 0.8377\n",
      "Epoch 49/200\n",
      "\u001B[1m70/70\u001B[0m \u001B[32m━━━━━━━━━━━━━━━━━━━━\u001B[0m\u001B[37m\u001B[0m \u001B[1m0s\u001B[0m 1ms/step - loss: 0.8315 - val_loss: 0.8238\n",
      "Epoch 50/200\n",
      "\u001B[1m70/70\u001B[0m \u001B[32m━━━━━━━━━━━━━━━━━━━━\u001B[0m\u001B[37m\u001B[0m \u001B[1m0s\u001B[0m 1ms/step - loss: 0.8323 - val_loss: 0.8412\n",
      "Epoch 51/200\n",
      "\u001B[1m70/70\u001B[0m \u001B[32m━━━━━━━━━━━━━━━━━━━━\u001B[0m\u001B[37m\u001B[0m \u001B[1m0s\u001B[0m 1ms/step - loss: 0.8405 - val_loss: 0.8259\n",
      "Epoch 52/200\n",
      "\u001B[1m70/70\u001B[0m \u001B[32m━━━━━━━━━━━━━━━━━━━━\u001B[0m\u001B[37m\u001B[0m \u001B[1m0s\u001B[0m 1ms/step - loss: 0.8408 - val_loss: 0.8248\n",
      "Epoch 53/200\n",
      "\u001B[1m70/70\u001B[0m \u001B[32m━━━━━━━━━━━━━━━━━━━━\u001B[0m\u001B[37m\u001B[0m \u001B[1m0s\u001B[0m 985us/step - loss: 0.8278 - val_loss: 0.8339\n",
      "Epoch 54/200\n",
      "\u001B[1m70/70\u001B[0m \u001B[32m━━━━━━━━━━━━━━━━━━━━\u001B[0m\u001B[37m\u001B[0m \u001B[1m0s\u001B[0m 997us/step - loss: 0.8265 - val_loss: 0.8383\n",
      "Epoch 55/200\n",
      "\u001B[1m70/70\u001B[0m \u001B[32m━━━━━━━━━━━━━━━━━━━━\u001B[0m\u001B[37m\u001B[0m \u001B[1m0s\u001B[0m 934us/step - loss: 0.8261 - val_loss: 0.8128\n",
      "Epoch 56/200\n",
      "\u001B[1m70/70\u001B[0m \u001B[32m━━━━━━━━━━━━━━━━━━━━\u001B[0m\u001B[37m\u001B[0m \u001B[1m0s\u001B[0m 897us/step - loss: 0.8242 - val_loss: 0.8204\n",
      "Epoch 57/200\n",
      "\u001B[1m70/70\u001B[0m \u001B[32m━━━━━━━━━━━━━━━━━━━━\u001B[0m\u001B[37m\u001B[0m \u001B[1m0s\u001B[0m 1ms/step - loss: 0.8271 - val_loss: 0.8242\n",
      "Epoch 58/200\n",
      "\u001B[1m70/70\u001B[0m \u001B[32m━━━━━━━━━━━━━━━━━━━━\u001B[0m\u001B[37m\u001B[0m \u001B[1m0s\u001B[0m 950us/step - loss: 0.8222 - val_loss: 0.8388\n",
      "Epoch 59/200\n",
      "\u001B[1m70/70\u001B[0m \u001B[32m━━━━━━━━━━━━━━━━━━━━\u001B[0m\u001B[37m\u001B[0m \u001B[1m0s\u001B[0m 1ms/step - loss: 0.8216 - val_loss: 0.8313\n",
      "Epoch 60/200\n",
      "\u001B[1m70/70\u001B[0m \u001B[32m━━━━━━━━━━━━━━━━━━━━\u001B[0m\u001B[37m\u001B[0m \u001B[1m0s\u001B[0m 1ms/step - loss: 0.8212 - val_loss: 0.8070\n",
      "Epoch 61/200\n",
      "\u001B[1m70/70\u001B[0m \u001B[32m━━━━━━━━━━━━━━━━━━━━\u001B[0m\u001B[37m\u001B[0m \u001B[1m0s\u001B[0m 945us/step - loss: 0.8171 - val_loss: 0.8290\n",
      "Epoch 62/200\n",
      "\u001B[1m70/70\u001B[0m \u001B[32m━━━━━━━━━━━━━━━━━━━━\u001B[0m\u001B[37m\u001B[0m \u001B[1m0s\u001B[0m 972us/step - loss: 0.8267 - val_loss: 0.8307\n",
      "Epoch 63/200\n",
      "\u001B[1m70/70\u001B[0m \u001B[32m━━━━━━━━━━━━━━━━━━━━\u001B[0m\u001B[37m\u001B[0m \u001B[1m0s\u001B[0m 912us/step - loss: 0.8223 - val_loss: 0.8187\n",
      "Epoch 64/200\n",
      "\u001B[1m70/70\u001B[0m \u001B[32m━━━━━━━━━━━━━━━━━━━━\u001B[0m\u001B[37m\u001B[0m \u001B[1m0s\u001B[0m 913us/step - loss: 0.8142 - val_loss: 0.8350\n",
      "Epoch 65/200\n",
      "\u001B[1m70/70\u001B[0m \u001B[32m━━━━━━━━━━━━━━━━━━━━\u001B[0m\u001B[37m\u001B[0m \u001B[1m0s\u001B[0m 1ms/step - loss: 0.8262 - val_loss: 0.8019\n",
      "Epoch 66/200\n",
      "\u001B[1m70/70\u001B[0m \u001B[32m━━━━━━━━━━━━━━━━━━━━\u001B[0m\u001B[37m\u001B[0m \u001B[1m0s\u001B[0m 1ms/step - loss: 0.8143 - val_loss: 0.8351\n",
      "Epoch 67/200\n",
      "\u001B[1m70/70\u001B[0m \u001B[32m━━━━━━━━━━━━━━━━━━━━\u001B[0m\u001B[37m\u001B[0m \u001B[1m0s\u001B[0m 1ms/step - loss: 0.8140 - val_loss: 0.8177\n",
      "Epoch 68/200\n",
      "\u001B[1m70/70\u001B[0m \u001B[32m━━━━━━━━━━━━━━━━━━━━\u001B[0m\u001B[37m\u001B[0m \u001B[1m0s\u001B[0m 962us/step - loss: 0.8240 - val_loss: 0.8212\n",
      "Epoch 69/200\n",
      "\u001B[1m70/70\u001B[0m \u001B[32m━━━━━━━━━━━━━━━━━━━━\u001B[0m\u001B[37m\u001B[0m \u001B[1m0s\u001B[0m 942us/step - loss: 0.8037 - val_loss: 0.8334\n",
      "Epoch 70/200\n",
      "\u001B[1m70/70\u001B[0m \u001B[32m━━━━━━━━━━━━━━━━━━━━\u001B[0m\u001B[37m\u001B[0m \u001B[1m0s\u001B[0m 969us/step - loss: 0.8135 - val_loss: 0.8187\n",
      "Epoch 71/200\n",
      "\u001B[1m70/70\u001B[0m \u001B[32m━━━━━━━━━━━━━━━━━━━━\u001B[0m\u001B[37m\u001B[0m \u001B[1m0s\u001B[0m 961us/step - loss: 0.8155 - val_loss: 0.8016\n",
      "Epoch 72/200\n",
      "\u001B[1m70/70\u001B[0m \u001B[32m━━━━━━━━━━━━━━━━━━━━\u001B[0m\u001B[37m\u001B[0m \u001B[1m0s\u001B[0m 967us/step - loss: 0.8145 - val_loss: 0.8129\n",
      "Epoch 73/200\n",
      "\u001B[1m70/70\u001B[0m \u001B[32m━━━━━━━━━━━━━━━━━━━━\u001B[0m\u001B[37m\u001B[0m \u001B[1m0s\u001B[0m 964us/step - loss: 0.8087 - val_loss: 0.7967\n",
      "Epoch 74/200\n",
      "\u001B[1m70/70\u001B[0m \u001B[32m━━━━━━━━━━━━━━━━━━━━\u001B[0m\u001B[37m\u001B[0m \u001B[1m0s\u001B[0m 980us/step - loss: 0.8144 - val_loss: 0.7929\n",
      "Epoch 75/200\n",
      "\u001B[1m70/70\u001B[0m \u001B[32m━━━━━━━━━━━━━━━━━━━━\u001B[0m\u001B[37m\u001B[0m \u001B[1m0s\u001B[0m 963us/step - loss: 0.8212 - val_loss: 0.8036\n",
      "Epoch 76/200\n",
      "\u001B[1m70/70\u001B[0m \u001B[32m━━━━━━━━━━━━━━━━━━━━\u001B[0m\u001B[37m\u001B[0m \u001B[1m0s\u001B[0m 962us/step - loss: 0.8162 - val_loss: 0.8241\n",
      "Epoch 77/200\n",
      "\u001B[1m70/70\u001B[0m \u001B[32m━━━━━━━━━━━━━━━━━━━━\u001B[0m\u001B[37m\u001B[0m \u001B[1m0s\u001B[0m 1ms/step - loss: 0.8150 - val_loss: 0.8000\n",
      "Epoch 78/200\n",
      "\u001B[1m70/70\u001B[0m \u001B[32m━━━━━━━━━━━━━━━━━━━━\u001B[0m\u001B[37m\u001B[0m \u001B[1m0s\u001B[0m 998us/step - loss: 0.8017 - val_loss: 0.8257\n",
      "Epoch 79/200\n",
      "\u001B[1m70/70\u001B[0m \u001B[32m━━━━━━━━━━━━━━━━━━━━\u001B[0m\u001B[37m\u001B[0m \u001B[1m0s\u001B[0m 944us/step - loss: 0.8157 - val_loss: 0.8071\n",
      "Epoch 80/200\n",
      "\u001B[1m70/70\u001B[0m \u001B[32m━━━━━━━━━━━━━━━━━━━━\u001B[0m\u001B[37m\u001B[0m \u001B[1m0s\u001B[0m 978us/step - loss: 0.8065 - val_loss: 0.8133\n",
      "Epoch 81/200\n",
      "\u001B[1m70/70\u001B[0m \u001B[32m━━━━━━━━━━━━━━━━━━━━\u001B[0m\u001B[37m\u001B[0m \u001B[1m0s\u001B[0m 946us/step - loss: 0.8147 - val_loss: 0.8125\n",
      "Epoch 82/200\n",
      "\u001B[1m70/70\u001B[0m \u001B[32m━━━━━━━━━━━━━━━━━━━━\u001B[0m\u001B[37m\u001B[0m \u001B[1m0s\u001B[0m 901us/step - loss: 0.8102 - val_loss: 0.7979\n",
      "Epoch 83/200\n",
      "\u001B[1m70/70\u001B[0m \u001B[32m━━━━━━━━━━━━━━━━━━━━\u001B[0m\u001B[37m\u001B[0m \u001B[1m0s\u001B[0m 951us/step - loss: 0.8060 - val_loss: 0.7965\n",
      "Epoch 84/200\n",
      "\u001B[1m70/70\u001B[0m \u001B[32m━━━━━━━━━━━━━━━━━━━━\u001B[0m\u001B[37m\u001B[0m \u001B[1m0s\u001B[0m 990us/step - loss: 0.8071 - val_loss: 0.8110\n"
     ]
    },
    {
     "data": {
      "text/plain": [
       "\u001B[1mModel: \"NN\"\u001B[0m\n"
      ],
      "text/html": [
       "<pre style=\"white-space:pre;overflow-x:auto;line-height:normal;font-family:Menlo,'DejaVu Sans Mono',consolas,'Courier New',monospace\"><span style=\"font-weight: bold\">Model: \"NN\"</span>\n",
       "</pre>\n"
      ]
     },
     "metadata": {},
     "output_type": "display_data"
    },
    {
     "data": {
      "text/plain": [
       "┏━━━━━━━━━━━━━━━━━━━━━━━━━━━━━━━━━┳━━━━━━━━━━━━━━━━━━━━━━━━┳━━━━━━━━━━━━━━━┓\n",
       "┃\u001B[1m \u001B[0m\u001B[1mLayer (type)                   \u001B[0m\u001B[1m \u001B[0m┃\u001B[1m \u001B[0m\u001B[1mOutput Shape          \u001B[0m\u001B[1m \u001B[0m┃\u001B[1m \u001B[0m\u001B[1m      Param #\u001B[0m\u001B[1m \u001B[0m┃\n",
       "┡━━━━━━━━━━━━━━━━━━━━━━━━━━━━━━━━━╇━━━━━━━━━━━━━━━━━━━━━━━━╇━━━━━━━━━━━━━━━┩\n",
       "│ l1 (\u001B[38;5;33mDense\u001B[0m)                      │ (\u001B[38;5;45mNone\u001B[0m, \u001B[38;5;34m64\u001B[0m)             │         \u001B[38;5;34m7,808\u001B[0m │\n",
       "├─────────────────────────────────┼────────────────────────┼───────────────┤\n",
       "│ do1 (\u001B[38;5;33mDropout\u001B[0m)                   │ ?                      │             \u001B[38;5;34m0\u001B[0m │\n",
       "├─────────────────────────────────┼────────────────────────┼───────────────┤\n",
       "│ l2 (\u001B[38;5;33mDense\u001B[0m)                      │ (\u001B[38;5;45mNone\u001B[0m, \u001B[38;5;34m64\u001B[0m)             │         \u001B[38;5;34m4,160\u001B[0m │\n",
       "├─────────────────────────────────┼────────────────────────┼───────────────┤\n",
       "│ do2 (\u001B[38;5;33mDropout\u001B[0m)                   │ ?                      │             \u001B[38;5;34m0\u001B[0m │\n",
       "├─────────────────────────────────┼────────────────────────┼───────────────┤\n",
       "│ out (\u001B[38;5;33mDense\u001B[0m)                     │ (\u001B[38;5;45mNone\u001B[0m, \u001B[38;5;34m10\u001B[0m)             │           \u001B[38;5;34m650\u001B[0m │\n",
       "└─────────────────────────────────┴────────────────────────┴───────────────┘\n"
      ],
      "text/html": [
       "<pre style=\"white-space:pre;overflow-x:auto;line-height:normal;font-family:Menlo,'DejaVu Sans Mono',consolas,'Courier New',monospace\">┏━━━━━━━━━━━━━━━━━━━━━━━━━━━━━━━━━┳━━━━━━━━━━━━━━━━━━━━━━━━┳━━━━━━━━━━━━━━━┓\n",
       "┃<span style=\"font-weight: bold\"> Layer (type)                    </span>┃<span style=\"font-weight: bold\"> Output Shape           </span>┃<span style=\"font-weight: bold\">       Param # </span>┃\n",
       "┡━━━━━━━━━━━━━━━━━━━━━━━━━━━━━━━━━╇━━━━━━━━━━━━━━━━━━━━━━━━╇━━━━━━━━━━━━━━━┩\n",
       "│ l1 (<span style=\"color: #0087ff; text-decoration-color: #0087ff\">Dense</span>)                      │ (<span style=\"color: #00d7ff; text-decoration-color: #00d7ff\">None</span>, <span style=\"color: #00af00; text-decoration-color: #00af00\">64</span>)             │         <span style=\"color: #00af00; text-decoration-color: #00af00\">7,808</span> │\n",
       "├─────────────────────────────────┼────────────────────────┼───────────────┤\n",
       "│ do1 (<span style=\"color: #0087ff; text-decoration-color: #0087ff\">Dropout</span>)                   │ ?                      │             <span style=\"color: #00af00; text-decoration-color: #00af00\">0</span> │\n",
       "├─────────────────────────────────┼────────────────────────┼───────────────┤\n",
       "│ l2 (<span style=\"color: #0087ff; text-decoration-color: #0087ff\">Dense</span>)                      │ (<span style=\"color: #00d7ff; text-decoration-color: #00d7ff\">None</span>, <span style=\"color: #00af00; text-decoration-color: #00af00\">64</span>)             │         <span style=\"color: #00af00; text-decoration-color: #00af00\">4,160</span> │\n",
       "├─────────────────────────────────┼────────────────────────┼───────────────┤\n",
       "│ do2 (<span style=\"color: #0087ff; text-decoration-color: #0087ff\">Dropout</span>)                   │ ?                      │             <span style=\"color: #00af00; text-decoration-color: #00af00\">0</span> │\n",
       "├─────────────────────────────────┼────────────────────────┼───────────────┤\n",
       "│ out (<span style=\"color: #0087ff; text-decoration-color: #0087ff\">Dense</span>)                     │ (<span style=\"color: #00d7ff; text-decoration-color: #00d7ff\">None</span>, <span style=\"color: #00af00; text-decoration-color: #00af00\">10</span>)             │           <span style=\"color: #00af00; text-decoration-color: #00af00\">650</span> │\n",
       "└─────────────────────────────────┴────────────────────────┴───────────────┘\n",
       "</pre>\n"
      ]
     },
     "metadata": {},
     "output_type": "display_data"
    },
    {
     "data": {
      "text/plain": [
       "\u001B[1m Total params: \u001B[0m\u001B[38;5;34m37,856\u001B[0m (147.88 KB)\n"
      ],
      "text/html": [
       "<pre style=\"white-space:pre;overflow-x:auto;line-height:normal;font-family:Menlo,'DejaVu Sans Mono',consolas,'Courier New',monospace\"><span style=\"font-weight: bold\"> Total params: </span><span style=\"color: #00af00; text-decoration-color: #00af00\">37,856</span> (147.88 KB)\n",
       "</pre>\n"
      ]
     },
     "metadata": {},
     "output_type": "display_data"
    },
    {
     "data": {
      "text/plain": [
       "\u001B[1m Trainable params: \u001B[0m\u001B[38;5;34m12,618\u001B[0m (49.29 KB)\n"
      ],
      "text/html": [
       "<pre style=\"white-space:pre;overflow-x:auto;line-height:normal;font-family:Menlo,'DejaVu Sans Mono',consolas,'Courier New',monospace\"><span style=\"font-weight: bold\"> Trainable params: </span><span style=\"color: #00af00; text-decoration-color: #00af00\">12,618</span> (49.29 KB)\n",
       "</pre>\n"
      ]
     },
     "metadata": {},
     "output_type": "display_data"
    },
    {
     "data": {
      "text/plain": [
       "\u001B[1m Non-trainable params: \u001B[0m\u001B[38;5;34m0\u001B[0m (0.00 B)\n"
      ],
      "text/html": [
       "<pre style=\"white-space:pre;overflow-x:auto;line-height:normal;font-family:Menlo,'DejaVu Sans Mono',consolas,'Courier New',monospace\"><span style=\"font-weight: bold\"> Non-trainable params: </span><span style=\"color: #00af00; text-decoration-color: #00af00\">0</span> (0.00 B)\n",
       "</pre>\n"
      ]
     },
     "metadata": {},
     "output_type": "display_data"
    },
    {
     "data": {
      "text/plain": [
       "\u001B[1m Optimizer params: \u001B[0m\u001B[38;5;34m25,238\u001B[0m (98.59 KB)\n"
      ],
      "text/html": [
       "<pre style=\"white-space:pre;overflow-x:auto;line-height:normal;font-family:Menlo,'DejaVu Sans Mono',consolas,'Courier New',monospace\"><span style=\"font-weight: bold\"> Optimizer params: </span><span style=\"color: #00af00; text-decoration-color: #00af00\">25,238</span> (98.59 KB)\n",
       "</pre>\n"
      ]
     },
     "metadata": {},
     "output_type": "display_data"
    },
    {
     "data": {
      "text/plain": [
       "<Figure size 600x800 with 2 Axes>"
      ],
      "image/png": "[encoded data removed]"
     },
     "metadata": {},
     "output_type": "display_data"
    }
   ],
   "execution_count": 29
  }
 ],
 "metadata": {
  "kernelspec": {
   "display_name": "Python 3",
   "language": "python",
   "name": "python3"
  },
  "language_info": {
   "codemirror_mode": {
    "name": "ipython",
    "version": 2
   },
   "file_extension": ".py",
   "mimetype": "text/x-python",
   "name": "python",
   "nbconvert_exporter": "python",
   "pygments_lexer": "ipython2",
   "version": "2.7.6"
  }
 },
 "nbformat": 4,
 "nbformat_minor": 5
}
