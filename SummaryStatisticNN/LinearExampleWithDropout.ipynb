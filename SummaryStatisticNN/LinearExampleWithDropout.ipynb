{
 "cells": [
  {
   "metadata": {},
   "cell_type": "markdown",
   "source": "In this page we will continue from the LinearExample notebook, choosing to use the covariance summary statistics for the linear example. We will use a custom class to aim to increase customisability as well as trying to use dropout to get a distribution of outputs.",
   "id": "c58fe3f8d28db6a1"
  },
  {
   "metadata": {},
   "cell_type": "markdown",
   "source": "### Imports",
   "id": "e56314ac977c55e2"
  },
  {
   "metadata": {
    "ExecuteTime": {
     "end_time": "2025-06-24T18:20:41.497438Z",
     "start_time": "2025-06-24T18:20:41.493788Z"
    }
   },
   "cell_type": "code",
   "source": [
    "import numpy as np\n",
    "import matplotlib.pyplot as plt\n",
    "import tensorflow as tf\n",
    "from tensorflow.keras.layers import Dense, Dropout\n",
    "from tensorflow.keras.models import Model\n",
    "from tensorflow.keras.callbacks import EarlyStopping\n",
    "\n",
    "print(\"Successfully imported all modules\")"
   ],
   "id": "dd70868959b937d0",
   "outputs": [
    {
     "name": "stdout",
     "output_type": "stream",
     "text": [
      "Successfully imported all modules\n"
     ]
    }
   ],
   "execution_count": 66
  },
  {
   "metadata": {},
   "cell_type": "markdown",
   "source": [
    "### All Parameters\n",
    "\n",
    "Can change the parameters here and re-run"
   ],
   "id": "831551d7d3050fa9"
  },
  {
   "metadata": {
    "ExecuteTime": {
     "end_time": "2025-06-24T18:20:41.510980Z",
     "start_time": "2025-06-24T18:20:41.508355Z"
    }
   },
   "cell_type": "code",
   "source": [
    "no_params = 10\n",
    "epochs = 200\n",
    "patience_early_stopping = 10  # Early-stopping window\n",
    "neurons_per_layer = 64\n",
    "dropout_prob = 0.2\n",
    "always_on_dropout = True  # Keep dropout active at test time\n",
    "\n",
    "batch_size = 256  # tf.data batch size\n",
    "theta_range = (0.0, 10.0)\n",
    "n_per_sample = 500  # points (x, y) per simulated data-set\n",
    "noise_std = 0.5\n",
    "n_examples = 20_000  # simulated data-sets to learn from\n",
    "\n",
    "# evaluation\n",
    "no_test_samples = 10_000\n",
    "mc_samples = 50  # Monte-Carlo dropout passes"
   ],
   "id": "c027d05bb9ed7ebc",
   "outputs": [],
   "execution_count": 67
  },
  {
   "metadata": {},
   "cell_type": "markdown",
   "source": "### plot helper function",
   "id": "b8a3f563ca00a6a0"
  },
  {
   "metadata": {
    "ExecuteTime": {
     "end_time": "2025-06-24T18:20:41.523497Z",
     "start_time": "2025-06-24T18:20:41.520109Z"
    }
   },
   "cell_type": "code",
   "source": [
    "def plot_loss(history: tf.keras.callbacks.History,\n",
    "              title: str = \"Loss curve\") -> None:\n",
    "    \"\"\"Plot training & validation loss curves (linear + semilog-y).\n",
    "    Generates two stacked panels:\n",
    "       • top: linear y-axis\n",
    "       • bottom: semilog-y (base-10) axis \"\"\"\n",
    "    epochs = range(1, len(history.history[\"loss\"]) + 1)\n",
    "\n",
    "    fig, (ax_lin, ax_log) = plt.subplots(2, 1, figsize=(6, 8), sharex=True)\n",
    "\n",
    "    # linear plot\n",
    "    ax_lin.plot(epochs, history.history[\"loss\"], label=\"train\")\n",
    "    ax_lin.plot(epochs, history.history[\"val_loss\"], label=\"val\")\n",
    "    ax_lin.set_ylabel(\"MSE\")\n",
    "    ax_lin.set_title(title + \" (linear scale)\")\n",
    "    ax_lin.legend()\n",
    "    ax_lin.grid(True, which=\"both\", linestyle=\"--\", linewidth=0.5)\n",
    "\n",
    "    # semilog-y plot\n",
    "    ax_log.semilogy(epochs, history.history[\"loss\"], label=\"train\")\n",
    "    ax_log.semilogy(epochs, history.history[\"val_loss\"], label=\"val\")\n",
    "    ax_log.set_xlabel(\"Epoch\")\n",
    "    ax_log.set_ylabel(\"MSE (log scale)\")\n",
    "    ax_log.set_title(title + \" (semilogy)\")\n",
    "    ax_log.legend()\n",
    "    ax_log.grid(True, which=\"both\", linestyle=\"--\", linewidth=0.5)\n",
    "\n",
    "    plt.tight_layout()\n",
    "    plt.show()\n"
   ],
   "id": "53889698fb04d997",
   "outputs": [],
   "execution_count": 68
  },
  {
   "metadata": {},
   "cell_type": "markdown",
   "source": [
    "### Custom NN\n",
    "\n",
    "As before use keras."
   ],
   "id": "deb9b257ba97872"
  },
  {
   "metadata": {},
   "cell_type": "markdown",
   "source": "Define our custom Neural Network, can add or remove layers accordingly",
   "id": "1c2e348b8d786f15"
  },
  {
   "metadata": {
    "ExecuteTime": {
     "end_time": "2025-06-24T18:20:41.531679Z",
     "start_time": "2025-06-24T18:20:41.528518Z"
    }
   },
   "cell_type": "code",
   "source": [
    "class NN(Model):\n",
    "    \"\"\"Two-layer MLP with optional always-on dropout.\"\"\"\n",
    "\n",
    "    def __init__(self,\n",
    "                 no_params: int,\n",
    "                 neurons: int,\n",
    "                 dropout_prob: float = 0.0,\n",
    "                 always_on_dropout: bool = False):\n",
    "        super(NN, self).__init__(name='NN')  # inherits the parent class and names it (for debugging)\n",
    "\n",
    "        self.neurons = neurons\n",
    "        self.no_params = no_params  # number of parameters we output\n",
    "        self.always_on_dropout = always_on_dropout  # if true then we leave on for test passes\n",
    "\n",
    "        # Define our layers\n",
    "        self.l1 = Dense(neurons, activation='relu', name='l1')\n",
    "        self.do1 = Dropout(rate=dropout_prob, name='do1')  # dropout layer 1\n",
    "        self.l2 = Dense(neurons, activation='relu', name='l2')\n",
    "        self.do2 = Dropout(rate=dropout_prob, name='do2')  # dropout layer 2\n",
    "        self.out = Dense(no_params, activation=\"linear\", name=\"out\")  # Applies linear activation\n",
    "\n",
    "    def call(self,\n",
    "             inputs: tf.Tensor,\n",
    "             training: bool = False) -> tf.Tensor:\n",
    "        \"\"\"Forward pass with dropout flag logic.\"\"\"\n",
    "        dropout_flag = training or self.always_on_dropout\n",
    "\n",
    "        # Apply our custom layers\n",
    "        x = self.l1(inputs)\n",
    "        x = self.do1(x, training=dropout_flag)\n",
    "        x = self.l2(x)\n",
    "        x = self.do2(x, training=dropout_flag)\n",
    "        x = self.out(x)\n",
    "        return x  # output size = no_params\n"
   ],
   "id": "7da4aedf7bd8745d",
   "outputs": [],
   "execution_count": 69
  },
  {
   "metadata": {},
   "cell_type": "markdown",
   "source": [
    "### Dataset generation\n",
    "\n",
    "We make a similar function to before with only the one covariance option.\n",
    "\n",
    "The scaling helps significantly to get good convergence"
   ],
   "id": "4a00dd18105a46c6"
  },
  {
   "metadata": {
    "ExecuteTime": {
     "end_time": "2025-06-24T18:20:41.539781Z",
     "start_time": "2025-06-24T18:20:41.536190Z"
    }
   },
   "cell_type": "code",
   "source": [
    "def simulate_batch(no_params: int,\n",
    "                   batch_size: int,\n",
    "                   theta_range: tuple,\n",
    "                   n_per_sample: int,\n",
    "                   noise_std: float):\n",
    "    \"\"\"Simulate one batch of (summary, θ, 1) pairs.\"\"\"\n",
    "    # Generate our theta, and random points which will be used to form the output variable\n",
    "    theta = tf.random.uniform([batch_size, no_params, 1], *theta_range)  # (B, D, 1)\n",
    "    X = tf.random.uniform([batch_size, n_per_sample, no_params])  # (B, n, D)\n",
    "\n",
    "    # Generate noise and then create output variable\n",
    "    noise = noise_std * tf.random.normal([batch_size, n_per_sample, 1])  # (B, n, 1)\n",
    "    y = tf.matmul(X, theta) + noise  # (B, n, 1)\n",
    "\n",
    "    mean_x = tf.reduce_mean(X, axis=1)  # (B, D)\n",
    "    mean_y = tf.reduce_mean(y, axis=1)  # (B, 1)\n",
    "\n",
    "    # Center both x and y around their mean\n",
    "    xc = X - tf.expand_dims(mean_x, 1)\n",
    "    yc = y - tf.expand_dims(mean_y, 1)\n",
    "\n",
    "    # Create the covariance matrix for the data, then the covariance between x and y\n",
    "    cov_x = tf.matmul(xc, xc, transpose_a=True) / n_per_sample  # (B, D, D)\n",
    "    cov_xy = tf.matmul(xc, yc, transpose_a=True) / n_per_sample  # (B, D, 1)\n",
    "\n",
    "    summary = tf.concat([\n",
    "        mean_x,\n",
    "        mean_y,\n",
    "        tf.reshape(cov_x, [-1, no_params * no_params]),\n",
    "        tf.reshape(cov_xy, [-1, no_params]),\n",
    "    ], axis=-1)  # (B, D² + 2D + 1)\n",
    "\n",
    "    return summary, theta\n",
    "\n",
    "\n",
    "def make_dataset_multi_dim(n_examples: int,\n",
    "                           no_params: int,\n",
    "                           batch_size: int) -> tf.data.Dataset:\n",
    "    \"\"\"Create a tf.data pipeline emitting un-batched (summary, θ) pairs.\"\"\"\n",
    "    steps = n_examples // batch_size\n",
    "    ds = tf.data.Dataset.range(steps).map(\n",
    "        lambda _: simulate_batch(no_params,\n",
    "                                 batch_size,\n",
    "                                 theta_range,\n",
    "                                 n_per_sample,\n",
    "                                 noise_std),\n",
    "        num_parallel_calls=tf.data.AUTOTUNE\n",
    "    ).unbatch()\n",
    "    return ds.prefetch(tf.data.AUTOTUNE)\n"
   ],
   "id": "47cfeff070b5a1d3",
   "outputs": [],
   "execution_count": 70
  },
  {
   "metadata": {
    "ExecuteTime": {
     "end_time": "2025-06-24T18:20:41.566173Z",
     "start_time": "2025-06-24T18:20:41.543832Z"
    }
   },
   "cell_type": "code",
   "source": [
    "train_ds = make_dataset_multi_dim(\n",
    "    n_examples=int(n_examples * 0.9),\n",
    "    no_params=no_params,\n",
    "    batch_size=batch_size\n",
    ")\n",
    "val_ds = make_dataset_multi_dim(\n",
    "    n_examples=int(n_examples * 0.1),\n",
    "    no_params=no_params,\n",
    "    batch_size=batch_size\n",
    ")"
   ],
   "id": "c67cae1aafb2cb6b",
   "outputs": [],
   "execution_count": 71
  },
  {
   "metadata": {},
   "cell_type": "markdown",
   "source": "Now initialise the model defining the optimiser too",
   "id": "a531d5f8954dec80"
  },
  {
   "metadata": {
    "ExecuteTime": {
     "end_time": "2025-06-24T18:20:41.575652Z",
     "start_time": "2025-06-24T18:20:41.570092Z"
    }
   },
   "cell_type": "code",
   "source": [
    "input_size = no_params ** 2 + 2 * no_params + 1\n",
    "\n",
    "myNN = NN(neurons=neurons_per_layer,\n",
    "          no_params=no_params,\n",
    "          dropout_prob=dropout_prob,\n",
    "          always_on_dropout=always_on_dropout)\n",
    "myNN.compile(loss='mse', optimizer=\"adam\")"
   ],
   "id": "3fa3b9ce418e70a",
   "outputs": [],
   "execution_count": 72
  },
  {
   "metadata": {},
   "cell_type": "markdown",
   "source": "Fit the model",
   "id": "899d8f9fb7dee85e"
  },
  {
   "metadata": {
    "ExecuteTime": {
     "end_time": "2025-06-24T18:20:55.494191Z",
     "start_time": "2025-06-24T18:20:41.579962Z"
    }
   },
   "cell_type": "code",
   "source": [
    "history = myNN.fit(\n",
    "    train_ds.batch(batch_size),\n",
    "    validation_data=val_ds.batch(batch_size),\n",
    "    epochs=epochs,\n",
    "    callbacks=[EarlyStopping(patience=patience_early_stopping,\n",
    "                             restore_best_weights=True)]\n",
    ")\n",
    "myNN.summary()\n",
    "plot_loss(history)"
   ],
   "id": "f957c27e1881aa59",
   "outputs": [
    {
     "name": "stdout",
     "output_type": "stream",
     "text": [
      "Epoch 1/200\n",
      "\u001B[1m70/70\u001B[0m \u001B[32m━━━━━━━━━━━━━━━━━━━━\u001B[0m\u001B[37m\u001B[0m \u001B[1m0s\u001B[0m 2ms/step - loss: 23.7439 - val_loss: 9.3166\n",
      "Epoch 2/200\n",
      "\u001B[1m70/70\u001B[0m \u001B[32m━━━━━━━━━━━━━━━━━━━━\u001B[0m\u001B[37m\u001B[0m \u001B[1m0s\u001B[0m 1ms/step - loss: 9.2624 - val_loss: 8.5828\n",
      "Epoch 3/200\n",
      "\u001B[1m70/70\u001B[0m \u001B[32m━━━━━━━━━━━━━━━━━━━━\u001B[0m\u001B[37m\u001B[0m \u001B[1m0s\u001B[0m 1ms/step - loss: 8.4812 - val_loss: 8.2021\n",
      "Epoch 4/200\n",
      "\u001B[1m70/70\u001B[0m \u001B[32m━━━━━━━━━━━━━━━━━━━━\u001B[0m\u001B[37m\u001B[0m \u001B[1m0s\u001B[0m 1ms/step - loss: 8.0394 - val_loss: 7.7113\n",
      "Epoch 5/200\n",
      "\u001B[1m70/70\u001B[0m \u001B[32m━━━━━━━━━━━━━━━━━━━━\u001B[0m\u001B[37m\u001B[0m \u001B[1m0s\u001B[0m 1ms/step - loss: 7.6391 - val_loss: 7.2371\n",
      "Epoch 6/200\n",
      "\u001B[1m70/70\u001B[0m \u001B[32m━━━━━━━━━━━━━━━━━━━━\u001B[0m\u001B[37m\u001B[0m \u001B[1m0s\u001B[0m 1ms/step - loss: 7.1391 - val_loss: 6.7902\n",
      "Epoch 7/200\n",
      "\u001B[1m70/70\u001B[0m \u001B[32m━━━━━━━━━━━━━━━━━━━━\u001B[0m\u001B[37m\u001B[0m \u001B[1m0s\u001B[0m 1ms/step - loss: 6.6952 - val_loss: 6.2929\n",
      "Epoch 8/200\n",
      "\u001B[1m70/70\u001B[0m \u001B[32m━━━━━━━━━━━━━━━━━━━━\u001B[0m\u001B[37m\u001B[0m \u001B[1m0s\u001B[0m 1ms/step - loss: 6.1347 - val_loss: 5.7452\n",
      "Epoch 9/200\n",
      "\u001B[1m70/70\u001B[0m \u001B[32m━━━━━━━━━━━━━━━━━━━━\u001B[0m\u001B[37m\u001B[0m \u001B[1m0s\u001B[0m 2ms/step - loss: 5.6215 - val_loss: 5.1369\n",
      "Epoch 10/200\n",
      "\u001B[1m70/70\u001B[0m \u001B[32m━━━━━━━━━━━━━━━━━━━━\u001B[0m\u001B[37m\u001B[0m \u001B[1m0s\u001B[0m 2ms/step - loss: 4.9982 - val_loss: 4.5888\n",
      "Epoch 11/200\n",
      "\u001B[1m70/70\u001B[0m \u001B[32m━━━━━━━━━━━━━━━━━━━━\u001B[0m\u001B[37m\u001B[0m \u001B[1m0s\u001B[0m 1ms/step - loss: 4.4409 - val_loss: 4.0279\n",
      "Epoch 12/200\n",
      "\u001B[1m70/70\u001B[0m \u001B[32m━━━━━━━━━━━━━━━━━━━━\u001B[0m\u001B[37m\u001B[0m \u001B[1m0s\u001B[0m 2ms/step - loss: 3.9863 - val_loss: 3.7502\n",
      "Epoch 13/200\n",
      "\u001B[1m70/70\u001B[0m \u001B[32m━━━━━━━━━━━━━━━━━━━━\u001B[0m\u001B[37m\u001B[0m \u001B[1m0s\u001B[0m 1ms/step - loss: 3.5768 - val_loss: 3.4608\n",
      "Epoch 14/200\n",
      "\u001B[1m70/70\u001B[0m \u001B[32m━━━━━━━━━━━━━━━━━━━━\u001B[0m\u001B[37m\u001B[0m \u001B[1m0s\u001B[0m 2ms/step - loss: 3.3740 - val_loss: 3.3595\n",
      "Epoch 15/200\n",
      "\u001B[1m70/70\u001B[0m \u001B[32m━━━━━━━━━━━━━━━━━━━━\u001B[0m\u001B[37m\u001B[0m \u001B[1m0s\u001B[0m 1ms/step - loss: 3.2245 - val_loss: 3.1372\n",
      "Epoch 16/200\n",
      "\u001B[1m70/70\u001B[0m \u001B[32m━━━━━━━━━━━━━━━━━━━━\u001B[0m\u001B[37m\u001B[0m \u001B[1m0s\u001B[0m 2ms/step - loss: 3.1476 - val_loss: 3.0898\n",
      "Epoch 17/200\n",
      "\u001B[1m70/70\u001B[0m \u001B[32m━━━━━━━━━━━━━━━━━━━━\u001B[0m\u001B[37m\u001B[0m \u001B[1m0s\u001B[0m 2ms/step - loss: 3.0145 - val_loss: 2.9658\n",
      "Epoch 18/200\n",
      "\u001B[1m70/70\u001B[0m \u001B[32m━━━━━━━━━━━━━━━━━━━━\u001B[0m\u001B[37m\u001B[0m \u001B[1m0s\u001B[0m 2ms/step - loss: 2.9975 - val_loss: 2.9655\n",
      "Epoch 19/200\n",
      "\u001B[1m70/70\u001B[0m \u001B[32m━━━━━━━━━━━━━━━━━━━━\u001B[0m\u001B[37m\u001B[0m \u001B[1m0s\u001B[0m 2ms/step - loss: 2.9179 - val_loss: 2.8785\n",
      "Epoch 20/200\n",
      "\u001B[1m70/70\u001B[0m \u001B[32m━━━━━━━━━━━━━━━━━━━━\u001B[0m\u001B[37m\u001B[0m \u001B[1m0s\u001B[0m 1ms/step - loss: 2.8320 - val_loss: 2.8601\n",
      "Epoch 21/200\n",
      "\u001B[1m70/70\u001B[0m \u001B[32m━━━━━━━━━━━━━━━━━━━━\u001B[0m\u001B[37m\u001B[0m \u001B[1m0s\u001B[0m 1ms/step - loss: 2.8592 - val_loss: 2.7519\n",
      "Epoch 22/200\n",
      "\u001B[1m70/70\u001B[0m \u001B[32m━━━━━━━━━━━━━━━━━━━━\u001B[0m\u001B[37m\u001B[0m \u001B[1m0s\u001B[0m 2ms/step - loss: 2.7876 - val_loss: 2.7505\n",
      "Epoch 23/200\n",
      "\u001B[1m70/70\u001B[0m \u001B[32m━━━━━━━━━━━━━━━━━━━━\u001B[0m\u001B[37m\u001B[0m \u001B[1m0s\u001B[0m 1ms/step - loss: 2.7980 - val_loss: 2.7807\n",
      "Epoch 24/200\n",
      "\u001B[1m70/70\u001B[0m \u001B[32m━━━━━━━━━━━━━━━━━━━━\u001B[0m\u001B[37m\u001B[0m \u001B[1m0s\u001B[0m 2ms/step - loss: 2.7243 - val_loss: 2.7093\n",
      "Epoch 25/200\n",
      "\u001B[1m70/70\u001B[0m \u001B[32m━━━━━━━━━━━━━━━━━━━━\u001B[0m\u001B[37m\u001B[0m \u001B[1m0s\u001B[0m 1ms/step - loss: 2.7076 - val_loss: 2.7081\n",
      "Epoch 26/200\n",
      "\u001B[1m70/70\u001B[0m \u001B[32m━━━━━━━━━━━━━━━━━━━━\u001B[0m\u001B[37m\u001B[0m \u001B[1m0s\u001B[0m 1ms/step - loss: 2.6867 - val_loss: 2.6571\n",
      "Epoch 27/200\n",
      "\u001B[1m70/70\u001B[0m \u001B[32m━━━━━━━━━━━━━━━━━━━━\u001B[0m\u001B[37m\u001B[0m \u001B[1m0s\u001B[0m 1ms/step - loss: 2.6491 - val_loss: 2.6369\n",
      "Epoch 28/200\n",
      "\u001B[1m70/70\u001B[0m \u001B[32m━━━━━━━━━━━━━━━━━━━━\u001B[0m\u001B[37m\u001B[0m \u001B[1m0s\u001B[0m 2ms/step - loss: 2.6586 - val_loss: 2.6124\n",
      "Epoch 29/200\n",
      "\u001B[1m70/70\u001B[0m \u001B[32m━━━━━━━━━━━━━━━━━━━━\u001B[0m\u001B[37m\u001B[0m \u001B[1m0s\u001B[0m 1ms/step - loss: 2.6030 - val_loss: 2.6010\n",
      "Epoch 30/200\n",
      "\u001B[1m70/70\u001B[0m \u001B[32m━━━━━━━━━━━━━━━━━━━━\u001B[0m\u001B[37m\u001B[0m \u001B[1m0s\u001B[0m 2ms/step - loss: 2.5844 - val_loss: 2.5995\n",
      "Epoch 31/200\n",
      "\u001B[1m70/70\u001B[0m \u001B[32m━━━━━━━━━━━━━━━━━━━━\u001B[0m\u001B[37m\u001B[0m \u001B[1m0s\u001B[0m 2ms/step - loss: 2.5786 - val_loss: 2.4804\n",
      "Epoch 32/200\n",
      "\u001B[1m70/70\u001B[0m \u001B[32m━━━━━━━━━━━━━━━━━━━━\u001B[0m\u001B[37m\u001B[0m \u001B[1m0s\u001B[0m 2ms/step - loss: 2.5670 - val_loss: 2.5439\n",
      "Epoch 33/200\n",
      "\u001B[1m70/70\u001B[0m \u001B[32m━━━━━━━━━━━━━━━━━━━━\u001B[0m\u001B[37m\u001B[0m \u001B[1m0s\u001B[0m 2ms/step - loss: 2.5260 - val_loss: 2.4892\n",
      "Epoch 34/200\n",
      "\u001B[1m70/70\u001B[0m \u001B[32m━━━━━━━━━━━━━━━━━━━━\u001B[0m\u001B[37m\u001B[0m \u001B[1m0s\u001B[0m 1ms/step - loss: 2.5330 - val_loss: 2.4455\n",
      "Epoch 35/200\n",
      "\u001B[1m70/70\u001B[0m \u001B[32m━━━━━━━━━━━━━━━━━━━━\u001B[0m\u001B[37m\u001B[0m \u001B[1m0s\u001B[0m 2ms/step - loss: 2.4771 - val_loss: 2.4340\n",
      "Epoch 36/200\n",
      "\u001B[1m70/70\u001B[0m \u001B[32m━━━━━━━━━━━━━━━━━━━━\u001B[0m\u001B[37m\u001B[0m \u001B[1m0s\u001B[0m 2ms/step - loss: 2.4950 - val_loss: 2.4602\n",
      "Epoch 37/200\n",
      "\u001B[1m70/70\u001B[0m \u001B[32m━━━━━━━━━━━━━━━━━━━━\u001B[0m\u001B[37m\u001B[0m \u001B[1m0s\u001B[0m 2ms/step - loss: 2.4586 - val_loss: 2.4902\n",
      "Epoch 38/200\n",
      "\u001B[1m70/70\u001B[0m \u001B[32m━━━━━━━━━━━━━━━━━━━━\u001B[0m\u001B[37m\u001B[0m \u001B[1m0s\u001B[0m 2ms/step - loss: 2.4214 - val_loss: 2.3847\n",
      "Epoch 39/200\n",
      "\u001B[1m70/70\u001B[0m \u001B[32m━━━━━━━━━━━━━━━━━━━━\u001B[0m\u001B[37m\u001B[0m \u001B[1m0s\u001B[0m 2ms/step - loss: 2.4214 - val_loss: 2.3557\n",
      "Epoch 40/200\n",
      "\u001B[1m70/70\u001B[0m \u001B[32m━━━━━━━━━━━━━━━━━━━━\u001B[0m\u001B[37m\u001B[0m \u001B[1m0s\u001B[0m 2ms/step - loss: 2.3651 - val_loss: 2.3544\n",
      "Epoch 41/200\n",
      "\u001B[1m70/70\u001B[0m \u001B[32m━━━━━━━━━━━━━━━━━━━━\u001B[0m\u001B[37m\u001B[0m \u001B[1m0s\u001B[0m 2ms/step - loss: 2.3799 - val_loss: 2.3702\n",
      "Epoch 42/200\n",
      "\u001B[1m70/70\u001B[0m \u001B[32m━━━━━━━━━━━━━━━━━━━━\u001B[0m\u001B[37m\u001B[0m \u001B[1m0s\u001B[0m 2ms/step - loss: 2.3892 - val_loss: 2.4111\n",
      "Epoch 43/200\n",
      "\u001B[1m70/70\u001B[0m \u001B[32m━━━━━━━━━━━━━━━━━━━━\u001B[0m\u001B[37m\u001B[0m \u001B[1m0s\u001B[0m 2ms/step - loss: 2.3444 - val_loss: 2.3783\n",
      "Epoch 44/200\n",
      "\u001B[1m70/70\u001B[0m \u001B[32m━━━━━━━━━━━━━━━━━━━━\u001B[0m\u001B[37m\u001B[0m \u001B[1m0s\u001B[0m 2ms/step - loss: 2.3357 - val_loss: 2.3257\n",
      "Epoch 45/200\n",
      "\u001B[1m70/70\u001B[0m \u001B[32m━━━━━━━━━━━━━━━━━━━━\u001B[0m\u001B[37m\u001B[0m \u001B[1m0s\u001B[0m 2ms/step - loss: 2.3353 - val_loss: 2.3394\n",
      "Epoch 46/200\n",
      "\u001B[1m70/70\u001B[0m \u001B[32m━━━━━━━━━━━━━━━━━━━━\u001B[0m\u001B[37m\u001B[0m \u001B[1m0s\u001B[0m 2ms/step - loss: 2.3358 - val_loss: 2.3516\n",
      "Epoch 47/200\n",
      "\u001B[1m70/70\u001B[0m \u001B[32m━━━━━━━━━━━━━━━━━━━━\u001B[0m\u001B[37m\u001B[0m \u001B[1m0s\u001B[0m 2ms/step - loss: 2.2981 - val_loss: 2.3033\n",
      "Epoch 48/200\n",
      "\u001B[1m70/70\u001B[0m \u001B[32m━━━━━━━━━━━━━━━━━━━━\u001B[0m\u001B[37m\u001B[0m \u001B[1m0s\u001B[0m 2ms/step - loss: 2.3115 - val_loss: 2.3347\n",
      "Epoch 49/200\n",
      "\u001B[1m70/70\u001B[0m \u001B[32m━━━━━━━━━━━━━━━━━━━━\u001B[0m\u001B[37m\u001B[0m \u001B[1m0s\u001B[0m 2ms/step - loss: 2.3277 - val_loss: 2.2735\n",
      "Epoch 50/200\n",
      "\u001B[1m70/70\u001B[0m \u001B[32m━━━━━━━━━━━━━━━━━━━━\u001B[0m\u001B[37m\u001B[0m \u001B[1m0s\u001B[0m 2ms/step - loss: 2.2806 - val_loss: 2.2560\n",
      "Epoch 51/200\n",
      "\u001B[1m70/70\u001B[0m \u001B[32m━━━━━━━━━━━━━━━━━━━━\u001B[0m\u001B[37m\u001B[0m \u001B[1m0s\u001B[0m 2ms/step - loss: 2.3142 - val_loss: 2.2671\n",
      "Epoch 52/200\n",
      "\u001B[1m70/70\u001B[0m \u001B[32m━━━━━━━━━━━━━━━━━━━━\u001B[0m\u001B[37m\u001B[0m \u001B[1m0s\u001B[0m 2ms/step - loss: 2.2652 - val_loss: 2.2617\n",
      "Epoch 53/200\n",
      "\u001B[1m70/70\u001B[0m \u001B[32m━━━━━━━━━━━━━━━━━━━━\u001B[0m\u001B[37m\u001B[0m \u001B[1m0s\u001B[0m 2ms/step - loss: 2.2655 - val_loss: 2.2642\n",
      "Epoch 54/200\n",
      "\u001B[1m70/70\u001B[0m \u001B[32m━━━━━━━━━━━━━━━━━━━━\u001B[0m\u001B[37m\u001B[0m \u001B[1m0s\u001B[0m 1ms/step - loss: 2.2469 - val_loss: 2.2596\n",
      "Epoch 55/200\n",
      "\u001B[1m70/70\u001B[0m \u001B[32m━━━━━━━━━━━━━━━━━━━━\u001B[0m\u001B[37m\u001B[0m \u001B[1m0s\u001B[0m 1ms/step - loss: 2.2552 - val_loss: 2.2317\n",
      "Epoch 56/200\n",
      "\u001B[1m70/70\u001B[0m \u001B[32m━━━━━━━━━━━━━━━━━━━━\u001B[0m\u001B[37m\u001B[0m \u001B[1m0s\u001B[0m 2ms/step - loss: 2.2397 - val_loss: 2.2089\n",
      "Epoch 57/200\n",
      "\u001B[1m70/70\u001B[0m \u001B[32m━━━━━━━━━━━━━━━━━━━━\u001B[0m\u001B[37m\u001B[0m \u001B[1m0s\u001B[0m 2ms/step - loss: 2.2447 - val_loss: 2.2340\n",
      "Epoch 58/200\n",
      "\u001B[1m70/70\u001B[0m \u001B[32m━━━━━━━━━━━━━━━━━━━━\u001B[0m\u001B[37m\u001B[0m \u001B[1m0s\u001B[0m 2ms/step - loss: 2.2249 - val_loss: 2.2056\n",
      "Epoch 59/200\n",
      "\u001B[1m70/70\u001B[0m \u001B[32m━━━━━━━━━━━━━━━━━━━━\u001B[0m\u001B[37m\u001B[0m \u001B[1m0s\u001B[0m 2ms/step - loss: 2.2290 - val_loss: 2.2396\n",
      "Epoch 60/200\n",
      "\u001B[1m70/70\u001B[0m \u001B[32m━━━━━━━━━━━━━━━━━━━━\u001B[0m\u001B[37m\u001B[0m \u001B[1m0s\u001B[0m 2ms/step - loss: 2.2123 - val_loss: 2.2320\n",
      "Epoch 61/200\n",
      "\u001B[1m70/70\u001B[0m \u001B[32m━━━━━━━━━━━━━━━━━━━━\u001B[0m\u001B[37m\u001B[0m \u001B[1m0s\u001B[0m 1ms/step - loss: 2.2076 - val_loss: 2.2151\n",
      "Epoch 62/200\n",
      "\u001B[1m70/70\u001B[0m \u001B[32m━━━━━━━━━━━━━━━━━━━━\u001B[0m\u001B[37m\u001B[0m \u001B[1m0s\u001B[0m 1ms/step - loss: 2.2005 - val_loss: 2.2027\n",
      "Epoch 63/200\n",
      "\u001B[1m70/70\u001B[0m \u001B[32m━━━━━━━━━━━━━━━━━━━━\u001B[0m\u001B[37m\u001B[0m \u001B[1m0s\u001B[0m 2ms/step - loss: 2.1993 - val_loss: 2.1723\n",
      "Epoch 64/200\n",
      "\u001B[1m70/70\u001B[0m \u001B[32m━━━━━━━━━━━━━━━━━━━━\u001B[0m\u001B[37m\u001B[0m \u001B[1m0s\u001B[0m 1ms/step - loss: 2.1879 - val_loss: 2.1326\n",
      "Epoch 65/200\n",
      "\u001B[1m70/70\u001B[0m \u001B[32m━━━━━━━━━━━━━━━━━━━━\u001B[0m\u001B[37m\u001B[0m \u001B[1m0s\u001B[0m 1ms/step - loss: 2.1949 - val_loss: 2.1430\n",
      "Epoch 66/200\n",
      "\u001B[1m70/70\u001B[0m \u001B[32m━━━━━━━━━━━━━━━━━━━━\u001B[0m\u001B[37m\u001B[0m \u001B[1m0s\u001B[0m 2ms/step - loss: 2.1819 - val_loss: 2.1381\n",
      "Epoch 67/200\n",
      "\u001B[1m70/70\u001B[0m \u001B[32m━━━━━━━━━━━━━━━━━━━━\u001B[0m\u001B[37m\u001B[0m \u001B[1m0s\u001B[0m 2ms/step - loss: 2.1615 - val_loss: 2.1256\n",
      "Epoch 68/200\n",
      "\u001B[1m70/70\u001B[0m \u001B[32m━━━━━━━━━━━━━━━━━━━━\u001B[0m\u001B[37m\u001B[0m \u001B[1m0s\u001B[0m 1ms/step - loss: 2.1657 - val_loss: 2.1136\n",
      "Epoch 69/200\n",
      "\u001B[1m70/70\u001B[0m \u001B[32m━━━━━━━━━━━━━━━━━━━━\u001B[0m\u001B[37m\u001B[0m \u001B[1m0s\u001B[0m 2ms/step - loss: 2.1897 - val_loss: 2.1793\n",
      "Epoch 70/200\n",
      "\u001B[1m70/70\u001B[0m \u001B[32m━━━━━━━━━━━━━━━━━━━━\u001B[0m\u001B[37m\u001B[0m \u001B[1m0s\u001B[0m 2ms/step - loss: 2.1245 - val_loss: 2.1472\n",
      "Epoch 71/200\n",
      "\u001B[1m70/70\u001B[0m \u001B[32m━━━━━━━━━━━━━━━━━━━━\u001B[0m\u001B[37m\u001B[0m \u001B[1m0s\u001B[0m 2ms/step - loss: 2.1424 - val_loss: 2.1082\n",
      "Epoch 72/200\n",
      "\u001B[1m70/70\u001B[0m \u001B[32m━━━━━━━━━━━━━━━━━━━━\u001B[0m\u001B[37m\u001B[0m \u001B[1m0s\u001B[0m 2ms/step - loss: 2.1396 - val_loss: 2.1411\n",
      "Epoch 73/200\n",
      "\u001B[1m70/70\u001B[0m \u001B[32m━━━━━━━━━━━━━━━━━━━━\u001B[0m\u001B[37m\u001B[0m \u001B[1m0s\u001B[0m 2ms/step - loss: 2.1040 - val_loss: 2.0941\n",
      "Epoch 74/200\n",
      "\u001B[1m70/70\u001B[0m \u001B[32m━━━━━━━━━━━━━━━━━━━━\u001B[0m\u001B[37m\u001B[0m \u001B[1m0s\u001B[0m 2ms/step - loss: 2.1190 - val_loss: 2.1711\n",
      "Epoch 75/200\n",
      "\u001B[1m70/70\u001B[0m \u001B[32m━━━━━━━━━━━━━━━━━━━━\u001B[0m\u001B[37m\u001B[0m \u001B[1m0s\u001B[0m 2ms/step - loss: 2.1273 - val_loss: 2.1703\n",
      "Epoch 76/200\n",
      "\u001B[1m70/70\u001B[0m \u001B[32m━━━━━━━━━━━━━━━━━━━━\u001B[0m\u001B[37m\u001B[0m \u001B[1m0s\u001B[0m 2ms/step - loss: 2.1177 - val_loss: 2.1207\n",
      "Epoch 77/200\n",
      "\u001B[1m70/70\u001B[0m \u001B[32m━━━━━━━━━━━━━━━━━━━━\u001B[0m\u001B[37m\u001B[0m \u001B[1m0s\u001B[0m 2ms/step - loss: 2.1379 - val_loss: 2.1814\n",
      "Epoch 78/200\n",
      "\u001B[1m70/70\u001B[0m \u001B[32m━━━━━━━━━━━━━━━━━━━━\u001B[0m\u001B[37m\u001B[0m \u001B[1m0s\u001B[0m 2ms/step - loss: 2.1130 - val_loss: 2.1238\n",
      "Epoch 79/200\n",
      "\u001B[1m70/70\u001B[0m \u001B[32m━━━━━━━━━━━━━━━━━━━━\u001B[0m\u001B[37m\u001B[0m \u001B[1m0s\u001B[0m 2ms/step - loss: 2.0858 - val_loss: 2.1489\n",
      "Epoch 80/200\n",
      "\u001B[1m70/70\u001B[0m \u001B[32m━━━━━━━━━━━━━━━━━━━━\u001B[0m\u001B[37m\u001B[0m \u001B[1m0s\u001B[0m 1ms/step - loss: 2.1231 - val_loss: 2.1013\n",
      "Epoch 81/200\n",
      "\u001B[1m70/70\u001B[0m \u001B[32m━━━━━━━━━━━━━━━━━━━━\u001B[0m\u001B[37m\u001B[0m \u001B[1m0s\u001B[0m 1ms/step - loss: 2.0815 - val_loss: 2.0779\n",
      "Epoch 82/200\n",
      "\u001B[1m70/70\u001B[0m \u001B[32m━━━━━━━━━━━━━━━━━━━━\u001B[0m\u001B[37m\u001B[0m \u001B[1m0s\u001B[0m 2ms/step - loss: 2.1162 - val_loss: 2.0694\n",
      "Epoch 83/200\n",
      "\u001B[1m70/70\u001B[0m \u001B[32m━━━━━━━━━━━━━━━━━━━━\u001B[0m\u001B[37m\u001B[0m \u001B[1m0s\u001B[0m 2ms/step - loss: 2.1003 - val_loss: 2.0830\n",
      "Epoch 84/200\n",
      "\u001B[1m70/70\u001B[0m \u001B[32m━━━━━━━━━━━━━━━━━━━━\u001B[0m\u001B[37m\u001B[0m \u001B[1m0s\u001B[0m 2ms/step - loss: 2.0784 - val_loss: 2.0587\n",
      "Epoch 85/200\n",
      "\u001B[1m70/70\u001B[0m \u001B[32m━━━━━━━━━━━━━━━━━━━━\u001B[0m\u001B[37m\u001B[0m \u001B[1m0s\u001B[0m 2ms/step - loss: 2.0629 - val_loss: 2.0775\n",
      "Epoch 86/200\n",
      "\u001B[1m70/70\u001B[0m \u001B[32m━━━━━━━━━━━━━━━━━━━━\u001B[0m\u001B[37m\u001B[0m \u001B[1m0s\u001B[0m 2ms/step - loss: 2.0689 - val_loss: 2.0527\n",
      "Epoch 87/200\n",
      "\u001B[1m70/70\u001B[0m \u001B[32m━━━━━━━━━━━━━━━━━━━━\u001B[0m\u001B[37m\u001B[0m \u001B[1m0s\u001B[0m 2ms/step - loss: 2.0508 - val_loss: 2.0605\n",
      "Epoch 88/200\n",
      "\u001B[1m70/70\u001B[0m \u001B[32m━━━━━━━━━━━━━━━━━━━━\u001B[0m\u001B[37m\u001B[0m \u001B[1m0s\u001B[0m 2ms/step - loss: 2.0532 - val_loss: 2.0883\n",
      "Epoch 89/200\n",
      "\u001B[1m70/70\u001B[0m \u001B[32m━━━━━━━━━━━━━━━━━━━━\u001B[0m\u001B[37m\u001B[0m \u001B[1m0s\u001B[0m 2ms/step - loss: 2.0570 - val_loss: 2.0900\n",
      "Epoch 90/200\n",
      "\u001B[1m70/70\u001B[0m \u001B[32m━━━━━━━━━━━━━━━━━━━━\u001B[0m\u001B[37m\u001B[0m \u001B[1m0s\u001B[0m 2ms/step - loss: 2.0500 - val_loss: 2.0262\n",
      "Epoch 91/200\n",
      "\u001B[1m70/70\u001B[0m \u001B[32m━━━━━━━━━━━━━━━━━━━━\u001B[0m\u001B[37m\u001B[0m \u001B[1m0s\u001B[0m 2ms/step - loss: 2.0428 - val_loss: 2.0677\n",
      "Epoch 92/200\n",
      "\u001B[1m70/70\u001B[0m \u001B[32m━━━━━━━━━━━━━━━━━━━━\u001B[0m\u001B[37m\u001B[0m \u001B[1m0s\u001B[0m 2ms/step - loss: 2.0467 - val_loss: 2.0350\n",
      "Epoch 93/200\n",
      "\u001B[1m70/70\u001B[0m \u001B[32m━━━━━━━━━━━━━━━━━━━━\u001B[0m\u001B[37m\u001B[0m \u001B[1m0s\u001B[0m 2ms/step - loss: 2.0328 - val_loss: 2.0358\n",
      "Epoch 94/200\n",
      "\u001B[1m70/70\u001B[0m \u001B[32m━━━━━━━━━━━━━━━━━━━━\u001B[0m\u001B[37m\u001B[0m \u001B[1m0s\u001B[0m 2ms/step - loss: 2.0371 - val_loss: 1.9782\n",
      "Epoch 95/200\n",
      "\u001B[1m70/70\u001B[0m \u001B[32m━━━━━━━━━━━━━━━━━━━━\u001B[0m\u001B[37m\u001B[0m \u001B[1m0s\u001B[0m 2ms/step - loss: 2.0294 - val_loss: 2.0422\n",
      "Epoch 96/200\n",
      "\u001B[1m70/70\u001B[0m \u001B[32m━━━━━━━━━━━━━━━━━━━━\u001B[0m\u001B[37m\u001B[0m \u001B[1m0s\u001B[0m 2ms/step - loss: 2.0440 - val_loss: 2.0098\n",
      "Epoch 97/200\n",
      "\u001B[1m70/70\u001B[0m \u001B[32m━━━━━━━━━━━━━━━━━━━━\u001B[0m\u001B[37m\u001B[0m \u001B[1m0s\u001B[0m 2ms/step - loss: 2.0303 - val_loss: 2.0228\n",
      "Epoch 98/200\n",
      "\u001B[1m70/70\u001B[0m \u001B[32m━━━━━━━━━━━━━━━━━━━━\u001B[0m\u001B[37m\u001B[0m \u001B[1m0s\u001B[0m 2ms/step - loss: 2.0387 - val_loss: 2.0654\n",
      "Epoch 99/200\n",
      "\u001B[1m70/70\u001B[0m \u001B[32m━━━━━━━━━━━━━━━━━━━━\u001B[0m\u001B[37m\u001B[0m \u001B[1m0s\u001B[0m 2ms/step - loss: 2.0108 - val_loss: 1.9593\n",
      "Epoch 100/200\n",
      "\u001B[1m70/70\u001B[0m \u001B[32m━━━━━━━━━━━━━━━━━━━━\u001B[0m\u001B[37m\u001B[0m \u001B[1m0s\u001B[0m 2ms/step - loss: 2.0328 - val_loss: 1.9450\n",
      "Epoch 101/200\n",
      "\u001B[1m70/70\u001B[0m \u001B[32m━━━━━━━━━━━━━━━━━━━━\u001B[0m\u001B[37m\u001B[0m \u001B[1m0s\u001B[0m 2ms/step - loss: 1.9898 - val_loss: 2.0620\n",
      "Epoch 102/200\n",
      "\u001B[1m70/70\u001B[0m \u001B[32m━━━━━━━━━━━━━━━━━━━━\u001B[0m\u001B[37m\u001B[0m \u001B[1m0s\u001B[0m 2ms/step - loss: 2.0084 - val_loss: 1.9602\n",
      "Epoch 103/200\n",
      "\u001B[1m70/70\u001B[0m \u001B[32m━━━━━━━━━━━━━━━━━━━━\u001B[0m\u001B[37m\u001B[0m \u001B[1m0s\u001B[0m 2ms/step - loss: 1.9953 - val_loss: 1.9955\n",
      "Epoch 104/200\n",
      "\u001B[1m70/70\u001B[0m \u001B[32m━━━━━━━━━━━━━━━━━━━━\u001B[0m\u001B[37m\u001B[0m \u001B[1m0s\u001B[0m 2ms/step - loss: 2.0178 - val_loss: 2.0104\n",
      "Epoch 105/200\n",
      "\u001B[1m70/70\u001B[0m \u001B[32m━━━━━━━━━━━━━━━━━━━━\u001B[0m\u001B[37m\u001B[0m \u001B[1m0s\u001B[0m 2ms/step - loss: 2.0024 - val_loss: 1.9555\n",
      "Epoch 106/200\n",
      "\u001B[1m70/70\u001B[0m \u001B[32m━━━━━━━━━━━━━━━━━━━━\u001B[0m\u001B[37m\u001B[0m \u001B[1m0s\u001B[0m 2ms/step - loss: 1.9808 - val_loss: 2.0159\n",
      "Epoch 107/200\n",
      "\u001B[1m70/70\u001B[0m \u001B[32m━━━━━━━━━━━━━━━━━━━━\u001B[0m\u001B[37m\u001B[0m \u001B[1m0s\u001B[0m 2ms/step - loss: 1.9925 - val_loss: 1.9787\n",
      "Epoch 108/200\n",
      "\u001B[1m70/70\u001B[0m \u001B[32m━━━━━━━━━━━━━━━━━━━━\u001B[0m\u001B[37m\u001B[0m \u001B[1m0s\u001B[0m 2ms/step - loss: 1.9801 - val_loss: 1.9727\n",
      "Epoch 109/200\n",
      "\u001B[1m70/70\u001B[0m \u001B[32m━━━━━━━━━━━━━━━━━━━━\u001B[0m\u001B[37m\u001B[0m \u001B[1m0s\u001B[0m 2ms/step - loss: 1.9998 - val_loss: 1.9541\n",
      "Epoch 110/200\n",
      "\u001B[1m70/70\u001B[0m \u001B[32m━━━━━━━━━━━━━━━━━━━━\u001B[0m\u001B[37m\u001B[0m \u001B[1m0s\u001B[0m 2ms/step - loss: 1.9771 - val_loss: 1.9568\n"
     ]
    },
    {
     "data": {
      "text/plain": [
       "\u001B[1mModel: \"NN\"\u001B[0m\n"
      ],
      "text/html": [
       "<pre style=\"white-space:pre;overflow-x:auto;line-height:normal;font-family:Menlo,'DejaVu Sans Mono',consolas,'Courier New',monospace\"><span style=\"font-weight: bold\">Model: \"NN\"</span>\n",
       "</pre>\n"
      ]
     },
     "metadata": {},
     "output_type": "display_data"
    },
    {
     "data": {
      "text/plain": [
       "┏━━━━━━━━━━━━━━━━━━━━━━━━━━━━━━━━━┳━━━━━━━━━━━━━━━━━━━━━━━━┳━━━━━━━━━━━━━━━┓\n",
       "┃\u001B[1m \u001B[0m\u001B[1mLayer (type)                   \u001B[0m\u001B[1m \u001B[0m┃\u001B[1m \u001B[0m\u001B[1mOutput Shape          \u001B[0m\u001B[1m \u001B[0m┃\u001B[1m \u001B[0m\u001B[1m      Param #\u001B[0m\u001B[1m \u001B[0m┃\n",
       "┡━━━━━━━━━━━━━━━━━━━━━━━━━━━━━━━━━╇━━━━━━━━━━━━━━━━━━━━━━━━╇━━━━━━━━━━━━━━━┩\n",
       "│ l1 (\u001B[38;5;33mDense\u001B[0m)                      │ (\u001B[38;5;45mNone\u001B[0m, \u001B[38;5;34m64\u001B[0m)             │         \u001B[38;5;34m7,808\u001B[0m │\n",
       "├─────────────────────────────────┼────────────────────────┼───────────────┤\n",
       "│ do1 (\u001B[38;5;33mDropout\u001B[0m)                   │ ?                      │             \u001B[38;5;34m0\u001B[0m │\n",
       "├─────────────────────────────────┼────────────────────────┼───────────────┤\n",
       "│ l2 (\u001B[38;5;33mDense\u001B[0m)                      │ (\u001B[38;5;45mNone\u001B[0m, \u001B[38;5;34m64\u001B[0m)             │         \u001B[38;5;34m4,160\u001B[0m │\n",
       "├─────────────────────────────────┼────────────────────────┼───────────────┤\n",
       "│ do2 (\u001B[38;5;33mDropout\u001B[0m)                   │ ?                      │             \u001B[38;5;34m0\u001B[0m │\n",
       "├─────────────────────────────────┼────────────────────────┼───────────────┤\n",
       "│ out (\u001B[38;5;33mDense\u001B[0m)                     │ (\u001B[38;5;45mNone\u001B[0m, \u001B[38;5;34m10\u001B[0m)             │           \u001B[38;5;34m650\u001B[0m │\n",
       "└─────────────────────────────────┴────────────────────────┴───────────────┘\n"
      ],
      "text/html": [
       "<pre style=\"white-space:pre;overflow-x:auto;line-height:normal;font-family:Menlo,'DejaVu Sans Mono',consolas,'Courier New',monospace\">┏━━━━━━━━━━━━━━━━━━━━━━━━━━━━━━━━━┳━━━━━━━━━━━━━━━━━━━━━━━━┳━━━━━━━━━━━━━━━┓\n",
       "┃<span style=\"font-weight: bold\"> Layer (type)                    </span>┃<span style=\"font-weight: bold\"> Output Shape           </span>┃<span style=\"font-weight: bold\">       Param # </span>┃\n",
       "┡━━━━━━━━━━━━━━━━━━━━━━━━━━━━━━━━━╇━━━━━━━━━━━━━━━━━━━━━━━━╇━━━━━━━━━━━━━━━┩\n",
       "│ l1 (<span style=\"color: #0087ff; text-decoration-color: #0087ff\">Dense</span>)                      │ (<span style=\"color: #00d7ff; text-decoration-color: #00d7ff\">None</span>, <span style=\"color: #00af00; text-decoration-color: #00af00\">64</span>)             │         <span style=\"color: #00af00; text-decoration-color: #00af00\">7,808</span> │\n",
       "├─────────────────────────────────┼────────────────────────┼───────────────┤\n",
       "│ do1 (<span style=\"color: #0087ff; text-decoration-color: #0087ff\">Dropout</span>)                   │ ?                      │             <span style=\"color: #00af00; text-decoration-color: #00af00\">0</span> │\n",
       "├─────────────────────────────────┼────────────────────────┼───────────────┤\n",
       "│ l2 (<span style=\"color: #0087ff; text-decoration-color: #0087ff\">Dense</span>)                      │ (<span style=\"color: #00d7ff; text-decoration-color: #00d7ff\">None</span>, <span style=\"color: #00af00; text-decoration-color: #00af00\">64</span>)             │         <span style=\"color: #00af00; text-decoration-color: #00af00\">4,160</span> │\n",
       "├─────────────────────────────────┼────────────────────────┼───────────────┤\n",
       "│ do2 (<span style=\"color: #0087ff; text-decoration-color: #0087ff\">Dropout</span>)                   │ ?                      │             <span style=\"color: #00af00; text-decoration-color: #00af00\">0</span> │\n",
       "├─────────────────────────────────┼────────────────────────┼───────────────┤\n",
       "│ out (<span style=\"color: #0087ff; text-decoration-color: #0087ff\">Dense</span>)                     │ (<span style=\"color: #00d7ff; text-decoration-color: #00d7ff\">None</span>, <span style=\"color: #00af00; text-decoration-color: #00af00\">10</span>)             │           <span style=\"color: #00af00; text-decoration-color: #00af00\">650</span> │\n",
       "└─────────────────────────────────┴────────────────────────┴───────────────┘\n",
       "</pre>\n"
      ]
     },
     "metadata": {},
     "output_type": "display_data"
    },
    {
     "data": {
      "text/plain": [
       "\u001B[1m Total params: \u001B[0m\u001B[38;5;34m37,856\u001B[0m (147.88 KB)\n"
      ],
      "text/html": [
       "<pre style=\"white-space:pre;overflow-x:auto;line-height:normal;font-family:Menlo,'DejaVu Sans Mono',consolas,'Courier New',monospace\"><span style=\"font-weight: bold\"> Total params: </span><span style=\"color: #00af00; text-decoration-color: #00af00\">37,856</span> (147.88 KB)\n",
       "</pre>\n"
      ]
     },
     "metadata": {},
     "output_type": "display_data"
    },
    {
     "data": {
      "text/plain": [
       "\u001B[1m Trainable params: \u001B[0m\u001B[38;5;34m12,618\u001B[0m (49.29 KB)\n"
      ],
      "text/html": [
       "<pre style=\"white-space:pre;overflow-x:auto;line-height:normal;font-family:Menlo,'DejaVu Sans Mono',consolas,'Courier New',monospace\"><span style=\"font-weight: bold\"> Trainable params: </span><span style=\"color: #00af00; text-decoration-color: #00af00\">12,618</span> (49.29 KB)\n",
       "</pre>\n"
      ]
     },
     "metadata": {},
     "output_type": "display_data"
    },
    {
     "data": {
      "text/plain": [
       "\u001B[1m Non-trainable params: \u001B[0m\u001B[38;5;34m0\u001B[0m (0.00 B)\n"
      ],
      "text/html": [
       "<pre style=\"white-space:pre;overflow-x:auto;line-height:normal;font-family:Menlo,'DejaVu Sans Mono',consolas,'Courier New',monospace\"><span style=\"font-weight: bold\"> Non-trainable params: </span><span style=\"color: #00af00; text-decoration-color: #00af00\">0</span> (0.00 B)\n",
       "</pre>\n"
      ]
     },
     "metadata": {},
     "output_type": "display_data"
    },
    {
     "data": {
      "text/plain": [
       "\u001B[1m Optimizer params: \u001B[0m\u001B[38;5;34m25,238\u001B[0m (98.59 KB)\n"
      ],
      "text/html": [
       "<pre style=\"white-space:pre;overflow-x:auto;line-height:normal;font-family:Menlo,'DejaVu Sans Mono',consolas,'Courier New',monospace\"><span style=\"font-weight: bold\"> Optimizer params: </span><span style=\"color: #00af00; text-decoration-color: #00af00\">25,238</span> (98.59 KB)\n",
       "</pre>\n"
      ]
     },
     "metadata": {},
     "output_type": "display_data"
    },
    {
     "data": {
      "text/plain": [
       "<Figure size 600x800 with 2 Axes>"
      ],
      "image/png": "[encoded data removed]"
     },
     "metadata": {},
     "output_type": "display_data"
    }
   ],
   "execution_count": 73
  },
  {
   "metadata": {},
   "cell_type": "markdown",
   "source": [
    "### Results\n",
    "\n",
    "Now we look to see how it performs on the data, as mentioned we keep dropout on during testing and will take a point estimate"
   ],
   "id": "7650382187080344"
  },
  {
   "metadata": {
    "ExecuteTime": {
     "end_time": "2025-06-24T18:20:55.501751Z",
     "start_time": "2025-06-24T18:20:55.498846Z"
    }
   },
   "cell_type": "code",
   "source": [
    "def average_relative_error(model: tf.keras.Model,\n",
    "                           batchsize: int,\n",
    "                           no_tests: int,\n",
    "                           mc_samples: int,\n",
    "                           n_per_sample: int,\n",
    "                           noise_std: float,\n",
    "                           theta_range: tuple) -> float:\n",
    "    \"\"\"Estimate mean relative error with Monte-Carlo dropout.\"\"\"\n",
    "    # Simulate a fresh batch\n",
    "    summaries, theta_true = simulate_batch(\n",
    "        no_params,\n",
    "        batch_size=no_tests,\n",
    "        theta_range=theta_range,\n",
    "        n_per_sample=n_per_sample,\n",
    "        noise_std=noise_std,\n",
    "    )  # shapes: (N, ·) and (N, D, 1)\n",
    "    theta_true_np = np.squeeze(theta_true.numpy(), axis=-1)  # (N, D)\n",
    "\n",
    "    # Monte-Carlo dropout passes\n",
    "    preds = [\n",
    "        model.predict(summaries, batch_size=batchsize, verbose=0)\n",
    "        for _ in range(mc_samples)\n",
    "    ]\n",
    "    theta_pred_mean = np.mean(np.stack(preds, axis=0), axis=0)  # (N, D)\n",
    "\n",
    "    # compute the relative error\n",
    "    eps = 1e-8\n",
    "    diff = theta_pred_mean - theta_true_np  # (N, D)\n",
    "    numer = np.linalg.norm(diff, axis=1)  # ‖θ̂ – θ‖₂\n",
    "    denom = np.linalg.norm(theta_true_np, axis=1) + eps\n",
    "    return (numer / denom).mean()\n"
   ],
   "id": "b1de7ff6857180af",
   "outputs": [],
   "execution_count": 74
  },
  {
   "metadata": {
    "ExecuteTime": {
     "end_time": "2025-06-24T18:21:15.409310Z",
     "start_time": "2025-06-24T18:21:13.558439Z"
    }
   },
   "cell_type": "code",
   "source": [
    "avg_re = average_relative_error(\n",
    "    model=myNN,\n",
    "    batchsize=batch_size,\n",
    "    no_tests=no_test_samples,\n",
    "    mc_samples=mc_samples,\n",
    "    n_per_sample=n_per_sample,\n",
    "    noise_std=noise_std,\n",
    "    theta_range=theta_range\n",
    ")\n",
    "print(f\"Average relative error (MC-{mc_samples}): {avg_re:.4f}\")"
   ],
   "id": "dcf5096e86d08c63",
   "outputs": [
    {
     "name": "stdout",
     "output_type": "stream",
     "text": [
      "Average relative error (MC-50): 0.1390\n"
     ]
    }
   ],
   "execution_count": 76
  }
 ],
 "metadata": {
  "kernelspec": {
   "display_name": "Python 3",
   "language": "python",
   "name": "python3"
  },
  "language_info": {
   "codemirror_mode": {
    "name": "ipython",
    "version": 2
   },
   "file_extension": ".py",
   "mimetype": "text/x-python",
   "name": "python",
   "nbconvert_exporter": "python",
   "pygments_lexer": "ipython2",
   "version": "2.7.6"
  }
 },
 "nbformat": 4,
 "nbformat_minor": 5
}
