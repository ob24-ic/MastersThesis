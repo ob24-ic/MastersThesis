{
 "cells": [
  {
   "metadata": {
    "ExecuteTime": {
     "end_time": "2025-06-19T14:25:56.066398Z",
     "start_time": "2025-06-19T14:25:56.063152Z"
    }
   },
   "cell_type": "code",
   "source": [
    "import numpy as np\n",
    "import matplotlib.pyplot as plt\n",
    "import tensorflow as tf\n",
    "\n",
    "N_EXAMPLES   = 20_000    # number of simulated data sets\n",
    "N_PER_SAMPLE = 100       # points (x_i, y_i) per data set\n",
    "SIGMA_EPS    = 0.5       # noise scale (known here)\n",
    "THETA_RANGE  = (0.0, 10) # prior range for θ during training\n",
    "BATCH_SIZE   = 256\n",
    "EPOCHS       = 20\n"
   ],
   "id": "396baea5db7c1ed6",
   "outputs": [],
   "execution_count": 17
  },
  {
   "metadata": {},
   "cell_type": "markdown",
   "source": "Generate the summary statistics data set to learn from, have a dataset of summary statistic theta pairs",
   "id": "483de579e7e2d791"
  },
  {
   "metadata": {
    "ExecuteTime": {
     "end_time": "2025-06-19T14:25:57.805368Z",
     "start_time": "2025-06-19T14:25:57.750730Z"
    }
   },
   "cell_type": "code",
   "source": [
    "def make_summary(x, y):\n",
    "    \"\"\"Return [S_xx, S_xy, n] for one data set.\"\"\"\n",
    "    S_xx = tf.reduce_sum(tf.square(x), axis=-1, keepdims=True)   # shape (batch, 1)\n",
    "    S_xy = tf.reduce_sum(x * y,        axis=-1, keepdims=True)   # shape (batch, 1)\n",
    "\n",
    "    # Broadcast n so it has shape (batch, 1) as well\n",
    "    n_val = tf.cast(tf.shape(x)[-1], tf.float32)                 # scalar\n",
    "    n     = tf.fill(tf.shape(S_xx), n_val)                       # shape (batch, 1)\n",
    "\n",
    "    return tf.concat([S_xx, S_xy, n], axis=-1)                   # shape (batch, 3)\n",
    "\n",
    "\n",
    "def simulate_batch(batch_size):\n",
    "    \"\"\"Generate a batch of independent data sets & their θ.\"\"\"\n",
    "    theta = tf.random.uniform([batch_size, 1], *THETA_RANGE)\n",
    "    x     = tf.random.uniform([batch_size, N_PER_SAMPLE])\n",
    "    noise = SIGMA_EPS * tf.random.normal([batch_size, N_PER_SAMPLE])\n",
    "    y     = theta * x + noise\n",
    "    summary = make_summary(x, y)                         # shape (batch, 3)\n",
    "    return summary, theta\n",
    "\n",
    "def make_dataset(n_examples):\n",
    "    \"\"\"tf.data.Dataset emitting (summary, θ) pairs. Allows for efficient processing\"\"\"\n",
    "    steps = n_examples // BATCH_SIZE\n",
    "    ds = tf.data.Dataset.range(steps).map(\n",
    "        lambda _: simulate_batch(BATCH_SIZE),\n",
    "        num_parallel_calls=tf.data.AUTOTUNE\n",
    "    ).unbatch()\n",
    "    return ds.prefetch(tf.data.AUTOTUNE)\n",
    "\n",
    "train_ds = make_dataset(int(N_EXAMPLES*0.9))\n",
    "val_ds   = make_dataset(int(N_EXAMPLES*0.1))\n"
   ],
   "id": "39fcac396ab347cd",
   "outputs": [],
   "execution_count": 18
  },
  {
   "metadata": {},
   "cell_type": "markdown",
   "source": "Define our basic model, 2 dense layers with relu, 32 width",
   "id": "fc3f7a0f67c756c3"
  },
  {
   "metadata": {
    "ExecuteTime": {
     "end_time": "2025-06-19T14:25:59.650910Z",
     "start_time": "2025-06-19T14:25:59.630384Z"
    }
   },
   "cell_type": "code",
   "source": [
    "model = tf.keras.Sequential([\n",
    "    tf.keras.layers.Input(shape=(3,)),\n",
    "    tf.keras.layers.Dense(32, activation='relu'),\n",
    "    tf.keras.layers.Dense(32, activation='relu'),\n",
    "    tf.keras.layers.Dense(1)               # θ̂\n",
    "])\n",
    "model.compile(optimizer='adam', loss='mse')\n",
    "model.summary()"
   ],
   "id": "862ae5627c138c32",
   "outputs": [
    {
     "data": {
      "text/plain": [
       "\u001B[1mModel: \"sequential_2\"\u001B[0m\n"
      ],
      "text/html": [
       "<pre style=\"white-space:pre;overflow-x:auto;line-height:normal;font-family:Menlo,'DejaVu Sans Mono',consolas,'Courier New',monospace\"><span style=\"font-weight: bold\">Model: \"sequential_2\"</span>\n",
       "</pre>\n"
      ]
     },
     "metadata": {},
     "output_type": "display_data"
    },
    {
     "data": {
      "text/plain": [
       "┏━━━━━━━━━━━━━━━━━━━━━━━━━━━━━━━━━┳━━━━━━━━━━━━━━━━━━━━━━━━┳━━━━━━━━━━━━━━━┓\n",
       "┃\u001B[1m \u001B[0m\u001B[1mLayer (type)                   \u001B[0m\u001B[1m \u001B[0m┃\u001B[1m \u001B[0m\u001B[1mOutput Shape          \u001B[0m\u001B[1m \u001B[0m┃\u001B[1m \u001B[0m\u001B[1m      Param #\u001B[0m\u001B[1m \u001B[0m┃\n",
       "┡━━━━━━━━━━━━━━━━━━━━━━━━━━━━━━━━━╇━━━━━━━━━━━━━━━━━━━━━━━━╇━━━━━━━━━━━━━━━┩\n",
       "│ dense_6 (\u001B[38;5;33mDense\u001B[0m)                 │ (\u001B[38;5;45mNone\u001B[0m, \u001B[38;5;34m32\u001B[0m)             │           \u001B[38;5;34m128\u001B[0m │\n",
       "├─────────────────────────────────┼────────────────────────┼───────────────┤\n",
       "│ dense_7 (\u001B[38;5;33mDense\u001B[0m)                 │ (\u001B[38;5;45mNone\u001B[0m, \u001B[38;5;34m32\u001B[0m)             │         \u001B[38;5;34m1,056\u001B[0m │\n",
       "├─────────────────────────────────┼────────────────────────┼───────────────┤\n",
       "│ dense_8 (\u001B[38;5;33mDense\u001B[0m)                 │ (\u001B[38;5;45mNone\u001B[0m, \u001B[38;5;34m1\u001B[0m)              │            \u001B[38;5;34m33\u001B[0m │\n",
       "└─────────────────────────────────┴────────────────────────┴───────────────┘\n"
      ],
      "text/html": [
       "<pre style=\"white-space:pre;overflow-x:auto;line-height:normal;font-family:Menlo,'DejaVu Sans Mono',consolas,'Courier New',monospace\">┏━━━━━━━━━━━━━━━━━━━━━━━━━━━━━━━━━┳━━━━━━━━━━━━━━━━━━━━━━━━┳━━━━━━━━━━━━━━━┓\n",
       "┃<span style=\"font-weight: bold\"> Layer (type)                    </span>┃<span style=\"font-weight: bold\"> Output Shape           </span>┃<span style=\"font-weight: bold\">       Param # </span>┃\n",
       "┡━━━━━━━━━━━━━━━━━━━━━━━━━━━━━━━━━╇━━━━━━━━━━━━━━━━━━━━━━━━╇━━━━━━━━━━━━━━━┩\n",
       "│ dense_6 (<span style=\"color: #0087ff; text-decoration-color: #0087ff\">Dense</span>)                 │ (<span style=\"color: #00d7ff; text-decoration-color: #00d7ff\">None</span>, <span style=\"color: #00af00; text-decoration-color: #00af00\">32</span>)             │           <span style=\"color: #00af00; text-decoration-color: #00af00\">128</span> │\n",
       "├─────────────────────────────────┼────────────────────────┼───────────────┤\n",
       "│ dense_7 (<span style=\"color: #0087ff; text-decoration-color: #0087ff\">Dense</span>)                 │ (<span style=\"color: #00d7ff; text-decoration-color: #00d7ff\">None</span>, <span style=\"color: #00af00; text-decoration-color: #00af00\">32</span>)             │         <span style=\"color: #00af00; text-decoration-color: #00af00\">1,056</span> │\n",
       "├─────────────────────────────────┼────────────────────────┼───────────────┤\n",
       "│ dense_8 (<span style=\"color: #0087ff; text-decoration-color: #0087ff\">Dense</span>)                 │ (<span style=\"color: #00d7ff; text-decoration-color: #00d7ff\">None</span>, <span style=\"color: #00af00; text-decoration-color: #00af00\">1</span>)              │            <span style=\"color: #00af00; text-decoration-color: #00af00\">33</span> │\n",
       "└─────────────────────────────────┴────────────────────────┴───────────────┘\n",
       "</pre>\n"
      ]
     },
     "metadata": {},
     "output_type": "display_data"
    },
    {
     "data": {
      "text/plain": [
       "\u001B[1m Total params: \u001B[0m\u001B[38;5;34m1,217\u001B[0m (4.75 KB)\n"
      ],
      "text/html": [
       "<pre style=\"white-space:pre;overflow-x:auto;line-height:normal;font-family:Menlo,'DejaVu Sans Mono',consolas,'Courier New',monospace\"><span style=\"font-weight: bold\"> Total params: </span><span style=\"color: #00af00; text-decoration-color: #00af00\">1,217</span> (4.75 KB)\n",
       "</pre>\n"
      ]
     },
     "metadata": {},
     "output_type": "display_data"
    },
    {
     "data": {
      "text/plain": [
       "\u001B[1m Trainable params: \u001B[0m\u001B[38;5;34m1,217\u001B[0m (4.75 KB)\n"
      ],
      "text/html": [
       "<pre style=\"white-space:pre;overflow-x:auto;line-height:normal;font-family:Menlo,'DejaVu Sans Mono',consolas,'Courier New',monospace\"><span style=\"font-weight: bold\"> Trainable params: </span><span style=\"color: #00af00; text-decoration-color: #00af00\">1,217</span> (4.75 KB)\n",
       "</pre>\n"
      ]
     },
     "metadata": {},
     "output_type": "display_data"
    },
    {
     "data": {
      "text/plain": [
       "\u001B[1m Non-trainable params: \u001B[0m\u001B[38;5;34m0\u001B[0m (0.00 B)\n"
      ],
      "text/html": [
       "<pre style=\"white-space:pre;overflow-x:auto;line-height:normal;font-family:Menlo,'DejaVu Sans Mono',consolas,'Courier New',monospace\"><span style=\"font-weight: bold\"> Non-trainable params: </span><span style=\"color: #00af00; text-decoration-color: #00af00\">0</span> (0.00 B)\n",
       "</pre>\n"
      ]
     },
     "metadata": {},
     "output_type": "display_data"
    }
   ],
   "execution_count": 19
  },
  {
   "metadata": {},
   "cell_type": "markdown",
   "source": "Initialise and train our model",
   "id": "539f4c8c12c6b1b8"
  },
  {
   "metadata": {
    "ExecuteTime": {
     "end_time": "2025-06-19T14:26:03.346747Z",
     "start_time": "2025-06-19T14:26:02.164974Z"
    }
   },
   "cell_type": "code",
   "source": [
    "# Define our model\n",
    "history = model.fit(train_ds.batch(BATCH_SIZE),\n",
    "                    validation_data=val_ds.batch(BATCH_SIZE),\n",
    "                    epochs=EPOCHS)\n"
   ],
   "id": "ae742040bee25c50",
   "outputs": [
    {
     "name": "stdout",
     "output_type": "stream",
     "text": [
      "Epoch 1/20\n",
      "\u001B[1m70/70\u001B[0m \u001B[32m━━━━━━━━━━━━━━━━━━━━\u001B[0m\u001B[37m\u001B[0m \u001B[1m0s\u001B[0m 957us/step - loss: 146.1208 - val_loss: 0.9973\n",
      "Epoch 2/20\n",
      "\u001B[1m70/70\u001B[0m \u001B[32m━━━━━━━━━━━━━━━━━━━━\u001B[0m\u001B[37m\u001B[0m \u001B[1m0s\u001B[0m 618us/step - loss: 0.9841 - val_loss: 0.6982\n",
      "Epoch 3/20\n",
      "\u001B[1m70/70\u001B[0m \u001B[32m━━━━━━━━━━━━━━━━━━━━\u001B[0m\u001B[37m\u001B[0m \u001B[1m0s\u001B[0m 656us/step - loss: 0.6453 - val_loss: 0.5523\n",
      "Epoch 4/20\n",
      "\u001B[1m70/70\u001B[0m \u001B[32m━━━━━━━━━━━━━━━━━━━━\u001B[0m\u001B[37m\u001B[0m \u001B[1m0s\u001B[0m 641us/step - loss: 0.5398 - val_loss: 0.4512\n",
      "Epoch 5/20\n",
      "\u001B[1m70/70\u001B[0m \u001B[32m━━━━━━━━━━━━━━━━━━━━\u001B[0m\u001B[37m\u001B[0m \u001B[1m0s\u001B[0m 596us/step - loss: 0.4770 - val_loss: 0.4259\n",
      "Epoch 6/20\n",
      "\u001B[1m70/70\u001B[0m \u001B[32m━━━━━━━━━━━━━━━━━━━━\u001B[0m\u001B[37m\u001B[0m \u001B[1m0s\u001B[0m 566us/step - loss: 0.4175 - val_loss: 0.3748\n",
      "Epoch 7/20\n",
      "\u001B[1m70/70\u001B[0m \u001B[32m━━━━━━━━━━━━━━━━━━━━\u001B[0m\u001B[37m\u001B[0m \u001B[1m0s\u001B[0m 583us/step - loss: 0.3927 - val_loss: 0.3243\n",
      "Epoch 8/20\n",
      "\u001B[1m70/70\u001B[0m \u001B[32m━━━━━━━━━━━━━━━━━━━━\u001B[0m\u001B[37m\u001B[0m \u001B[1m0s\u001B[0m 609us/step - loss: 0.3532 - val_loss: 0.3159\n",
      "Epoch 9/20\n",
      "\u001B[1m70/70\u001B[0m \u001B[32m━━━━━━━━━━━━━━━━━━━━\u001B[0m\u001B[37m\u001B[0m \u001B[1m0s\u001B[0m 583us/step - loss: 0.3064 - val_loss: 0.3163\n",
      "Epoch 10/20\n",
      "\u001B[1m70/70\u001B[0m \u001B[32m━━━━━━━━━━━━━━━━━━━━\u001B[0m\u001B[37m\u001B[0m \u001B[1m0s\u001B[0m 612us/step - loss: 0.2795 - val_loss: 0.2552\n",
      "Epoch 11/20\n",
      "\u001B[1m70/70\u001B[0m \u001B[32m━━━━━━━━━━━━━━━━━━━━\u001B[0m\u001B[37m\u001B[0m \u001B[1m0s\u001B[0m 612us/step - loss: 0.2489 - val_loss: 0.2230\n",
      "Epoch 12/20\n",
      "\u001B[1m70/70\u001B[0m \u001B[32m━━━━━━━━━━━━━━━━━━━━\u001B[0m\u001B[37m\u001B[0m \u001B[1m0s\u001B[0m 588us/step - loss: 0.2257 - val_loss: 0.2021\n",
      "Epoch 13/20\n",
      "\u001B[1m70/70\u001B[0m \u001B[32m━━━━━━━━━━━━━━━━━━━━\u001B[0m\u001B[37m\u001B[0m \u001B[1m0s\u001B[0m 620us/step - loss: 0.1909 - val_loss: 0.1832\n",
      "Epoch 14/20\n",
      "\u001B[1m70/70\u001B[0m \u001B[32m━━━━━━━━━━━━━━━━━━━━\u001B[0m\u001B[37m\u001B[0m \u001B[1m0s\u001B[0m 562us/step - loss: 0.1649 - val_loss: 0.1501\n",
      "Epoch 15/20\n",
      "\u001B[1m70/70\u001B[0m \u001B[32m━━━━━━━━━━━━━━━━━━━━\u001B[0m\u001B[37m\u001B[0m \u001B[1m0s\u001B[0m 568us/step - loss: 0.1457 - val_loss: 0.1347\n",
      "Epoch 16/20\n",
      "\u001B[1m70/70\u001B[0m \u001B[32m━━━━━━━━━━━━━━━━━━━━\u001B[0m\u001B[37m\u001B[0m \u001B[1m0s\u001B[0m 566us/step - loss: 0.1217 - val_loss: 0.1099\n",
      "Epoch 17/20\n",
      "\u001B[1m70/70\u001B[0m \u001B[32m━━━━━━━━━━━━━━━━━━━━\u001B[0m\u001B[37m\u001B[0m \u001B[1m0s\u001B[0m 688us/step - loss: 0.1045 - val_loss: 0.0868\n",
      "Epoch 18/20\n",
      "\u001B[1m70/70\u001B[0m \u001B[32m━━━━━━━━━━━━━━━━━━━━\u001B[0m\u001B[37m\u001B[0m \u001B[1m0s\u001B[0m 575us/step - loss: 0.0855 - val_loss: 0.0805\n",
      "Epoch 19/20\n",
      "\u001B[1m70/70\u001B[0m \u001B[32m━━━━━━━━━━━━━━━━━━━━\u001B[0m\u001B[37m\u001B[0m \u001B[1m0s\u001B[0m 567us/step - loss: 0.0777 - val_loss: 0.0628\n",
      "Epoch 20/20\n",
      "\u001B[1m70/70\u001B[0m \u001B[32m━━━━━━━━━━━━━━━━━━━━\u001B[0m\u001B[37m\u001B[0m \u001B[1m0s\u001B[0m 583us/step - loss: 0.0663 - val_loss: 0.0597\n"
     ]
    }
   ],
   "execution_count": 20
  },
  {
   "metadata": {},
   "cell_type": "markdown",
   "source": "Test to see how well performs on 1 data set.",
   "id": "77a4b6d10cb7107a"
  },
  {
   "metadata": {
    "ExecuteTime": {
     "end_time": "2025-06-19T14:26:06.184531Z",
     "start_time": "2025-06-19T14:26:06.142917Z"
    }
   },
   "cell_type": "code",
   "source": [
    "# Simulate one brand-new data set\n",
    "x_test  = np.random.rand(N_PER_SAMPLE).astype(np.float32)\n",
    "theta_true = 5.0\n",
    "y_test  = theta_true * x_test + SIGMA_EPS*np.random.randn(N_PER_SAMPLE).astype(np.float32)\n",
    "summary_test = make_summary(x_test[None, :], y_test[None, :])  # shape (1,3)\n",
    "\n",
    "theta_pred  = model.predict(summary_test)[0,0]\n",
    "print(f\"True θ = {theta_true:.2f},  Predicted θ = {theta_pred:.2f}\")"
   ],
   "id": "2b64bad06bb980f7",
   "outputs": [
    {
     "name": "stdout",
     "output_type": "stream",
     "text": [
      "\u001B[1m1/1\u001B[0m \u001B[32m━━━━━━━━━━━━━━━━━━━━\u001B[0m\u001B[37m\u001B[0m \u001B[1m0s\u001B[0m 20ms/step\n",
      "True θ = 5.00,  Predicted θ = 4.88\n"
     ]
    }
   ],
   "execution_count": 21
  },
  {
   "metadata": {},
   "cell_type": "markdown",
   "source": "Simulate a couple and find relative error",
   "id": "4eaa25bf5cd47b97"
  },
  {
   "metadata": {
    "ExecuteTime": {
     "end_time": "2025-06-19T14:28:12.635209Z",
     "start_time": "2025-06-19T14:28:12.579730Z"
    }
   },
   "cell_type": "code",
   "source": [
    "def average_relative_error(model, num_tests=1000):\n",
    "    \"\"\"\n",
    "    Simulate `num_tests` new (x, y) samples, predict θ with the trained model,\n",
    "    and return the mean relative error over the batch.\n",
    "    \"\"\"\n",
    "    # Simulate a batch\n",
    "    summaries, theta_true = simulate_batch(num_tests)        # (num_tests, 3) and (num_tests, 1)\n",
    "\n",
    "    # Model prediction → shape (num_tests, 1)\n",
    "    theta_pred = model.predict(summaries, verbose=0)\n",
    "\n",
    "    # Relative error: |pred - true| / true   (add tiny eps to avoid div-by-0)\n",
    "    eps       = 1e-8\n",
    "    rel_error = np.abs(theta_pred.squeeze() - theta_true.numpy().squeeze()) / (theta_true.numpy().squeeze() + eps)\n",
    "\n",
    "    # Return the mean error\n",
    "    return rel_error.mean()\n",
    "\n",
    "avg_re = average_relative_error(model, num_tests=1000)\n",
    "print(f\"Average relative error over 1000 tests: {avg_re:.4f}\")\n"
   ],
   "id": "e75ba86471d2e498",
   "outputs": [
    {
     "name": "stdout",
     "output_type": "stream",
     "text": [
      "Average relative error over 1000 tests: 0.0730\n"
     ]
    }
   ],
   "execution_count": 22
  }
 ],
 "metadata": {
  "kernelspec": {
   "display_name": "Python 3",
   "language": "python",
   "name": "python3"
  },
  "language_info": {
   "codemirror_mode": {
    "name": "ipython",
    "version": 2
   },
   "file_extension": ".py",
   "mimetype": "text/x-python",
   "name": "python",
   "nbconvert_exporter": "python",
   "pygments_lexer": "ipython2",
   "version": "2.7.6"
  }
 },
 "nbformat": 4,
 "nbformat_minor": 5
}
