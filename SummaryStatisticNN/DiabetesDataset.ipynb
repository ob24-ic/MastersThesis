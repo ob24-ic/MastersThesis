{
 "cells": [
  {
   "cell_type": "code",
   "id": "initial_id",
   "metadata": {
    "collapsed": true,
    "ExecuteTime": {
     "end_time": "2025-06-27T15:13:40.657604Z",
     "start_time": "2025-06-27T15:13:38.082649Z"
    }
   },
   "source": [
    "import sys, pathlib, os\n",
    "\n",
    "from SummaryStatisticNN.MainCode.generate_data import make_spike_simulator\n",
    "\n",
    "CODE_DIR = pathlib.Path(os.getcwd()) / \"MainCode\"\n",
    "if CODE_DIR.exists():\n",
    "    sys.path.append(str(CODE_DIR.resolve()))\n",
    "else:\n",
    "    raise FileNotFoundError(\"Code directory not found\")\n",
    "\n",
    "# Module imports\n",
    "from NN import NN, GatedNN, ThetaOnly\n",
    "from custom_loss import gated_loss\n",
    "from plotting_functions.plot_training_loss import plot_loss\n",
    "\n",
    "# External imports\n",
    "from tensorflow.keras.callbacks import EarlyStopping\n",
    "from sklearn.model_selection import train_test_split\n",
    "from sklearn.preprocessing import StandardScaler\n",
    "from sklearn.datasets import load_diabetes\n",
    "\n",
    "print(\"successfully imported all modules\")\n"
   ],
   "outputs": [
    {
     "name": "stdout",
     "output_type": "stream",
     "text": [
      "successfully imported all modules\n"
     ]
    }
   ],
   "execution_count": 1
  },
  {
   "metadata": {
    "ExecuteTime": {
     "end_time": "2025-06-27T15:13:51.165303Z",
     "start_time": "2025-06-27T15:13:51.160564Z"
    }
   },
   "cell_type": "code",
   "source": [
    "# 1. Load\n",
    "diabetes = load_diabetes()\n",
    "X, y = diabetes.data, diabetes.target.reshape(-1, 1)\n",
    "\n"
   ],
   "id": "eced457489855c19",
   "outputs": [],
   "execution_count": 3
  }
 ],
 "metadata": {
  "kernelspec": {
   "display_name": "Python 3",
   "language": "python",
   "name": "python3"
  },
  "language_info": {
   "codemirror_mode": {
    "name": "ipython",
    "version": 2
   },
   "file_extension": ".py",
   "mimetype": "text/x-python",
   "name": "python",
   "nbconvert_exporter": "python",
   "pygments_lexer": "ipython2",
   "version": "2.7.6"
  }
 },
 "nbformat": 4,
 "nbformat_minor": 5
}
